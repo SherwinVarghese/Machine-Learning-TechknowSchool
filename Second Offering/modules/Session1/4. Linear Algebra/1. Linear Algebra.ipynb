{
 "cells": [
  {
   "cell_type": "markdown",
   "metadata": {
    "slideshow": {
     "slide_type": "slide"
    }
   },
   "source": [
    "# Linear Algebra\n",
    "\n",
    "\n",
    "Linear algebra is a mathematical toolbox that offers helpful techniques for manipulating groups of numbers simultaneously. It provides structures like vectors and matrices (spreadsheets) to hold these numbers and new rules for how to add, subtract, multiply, and divide them. \n",
    "\n",
    "![assets/linearAlgebraExample.PNG](assets/linearAlgebraExample.png)"
   ]
  },
  {
   "cell_type": "markdown",
   "metadata": {
    "slideshow": {
     "slide_type": "slide"
    }
   },
   "source": [
    "\n",
    "## 1. Vectors\n",
    "\n",
    "Vectors are 1-dimensional arrays of numbers or terms. In geometry, vectors store the magnitude and direction of a potential change to a point. The vector [3, -2] says go right 3 and down 2. A vector with more than one dimension is called a matrix.\n"
   ]
  },
  {
   "cell_type": "markdown",
   "metadata": {
    "slideshow": {
     "slide_type": "slide"
    }
   },
   "source": [
    "### 1.1 Notation\n",
    "\n",
    "There are a variety of ways to represent vectors. Here are a few you might come across in your reading.\n",
    "\n",
    "![assets/vectors.PNG](assets/vectorNotation.png)"
   ]
  },
  {
   "cell_type": "markdown",
   "metadata": {
    "slideshow": {
     "slide_type": "slide"
    }
   },
   "source": [
    "\n",
    "### 1.2 Vectors in geometry\n",
    "\n",
    "Vectors typically represent movement from a point. They store both the magnitude and direction of potential changes to a point. The vector [-2,5] says move left 2 units and up 5 units.\n",
    "\n",
    "![image.png](assets/vectors.PNG)\n",
    "\n",
    "A vector can be applied to any point in space. The vector's direction equals the slope of the hypotenuse created moving up 5 and left 2. Its magnitude equals the length of the hypotenuse."
   ]
  },
  {
   "cell_type": "markdown",
   "metadata": {
    "slideshow": {
     "slide_type": "slide"
    }
   },
   "source": [
    "\n",
    "### 1.3 Scalar operations\n",
    "\n",
    "Scalar operations involve a vector and a number. You modify the vector in-place by adding, subtracting, or multiplying the number from all the values in the vector.\n",
    "\n",
    "![image.png](assets/scalarOperations.png)\n"
   ]
  },
  {
   "cell_type": "markdown",
   "metadata": {
    "slideshow": {
     "slide_type": "slide"
    }
   },
   "source": [
    "### 1.4 Elementwise operations\n",
    "\n",
    "In elementwise operations like addition, subtraction, and division, values that correspond positionally are combined to produce a new vector. The 1st value in vector A is paired with the 1st value in vector B. The 2nd value is paired with the 2nd, and so on. This means the vectors must have equal dimensions to complete the operation.*\n",
    "\n",
    "![image.png](assets/elementWiseOperations.png)\n",
    "\n",
    "\n",
    "See below for details on broadcasting in numpy."
   ]
  },
  {
   "cell_type": "code",
   "execution_count": 3,
   "metadata": {
    "slideshow": {
     "slide_type": "fragment"
    }
   },
   "outputs": [
    {
     "name": "stdout",
     "output_type": "stream",
     "text": [
      "[3 5 7]\n",
      "[1 1 1]\n",
      "[2.         1.5        1.33333333]\n"
     ]
    }
   ],
   "source": [
    "import numpy as np\n",
    "\n",
    "y = np.array([1,2,3])\n",
    "x = np.array([2,3,4])\n",
    "\n",
    "print(x + y)\n",
    "print(x - y)\n",
    "print(x / y)"
   ]
  },
  {
   "cell_type": "markdown",
   "metadata": {
    "slideshow": {
     "slide_type": "slide"
    }
   },
   "source": [
    "### 1.5 Dot product\n",
    "\n",
    "The dot product of two vectors is a scalar. Dot product of vectors and matrices (matrix multiplication) is one of the most important operations in deep learning.\n",
    "\n",
    "![image.png](assets/dotProduct.png)\n",
    "\n",
    "\n"
   ]
  },
  {
   "cell_type": "code",
   "execution_count": 4,
   "metadata": {
    "slideshow": {
     "slide_type": "fragment"
    }
   },
   "outputs": [
    {
     "data": {
      "text/plain": [
       "20"
      ]
     },
     "execution_count": 4,
     "metadata": {},
     "output_type": "execute_result"
    }
   ],
   "source": [
    "y = np.array([1,2,3])\n",
    "x = np.array([2,3,4])\n",
    "np.dot(y,x)"
   ]
  },
  {
   "cell_type": "markdown",
   "metadata": {
    "slideshow": {
     "slide_type": "slide"
    }
   },
   "source": [
    "### 1.6 Hadamard product\n",
    "\n",
    "Hadamard Product is elementwise multiplication and it outputs a vector.\n",
    "\n",
    "![image.png](assets/hadamardProduct.png)\n",
    "\n"
   ]
  },
  {
   "cell_type": "code",
   "execution_count": 5,
   "metadata": {
    "slideshow": {
     "slide_type": "fragment"
    }
   },
   "outputs": [
    {
     "data": {
      "text/plain": [
       "array([ 2,  6, 12])"
      ]
     },
     "execution_count": 5,
     "metadata": {},
     "output_type": "execute_result"
    }
   ],
   "source": [
    "y = np.array([1,2,3])\n",
    "x = np.array([2,3,4])\n",
    "y * x "
   ]
  },
  {
   "cell_type": "markdown",
   "metadata": {
    "slideshow": {
     "slide_type": "slide"
    }
   },
   "source": [
    "\n",
    "## 2. Matrices\n",
    "\n",
    "A matrix is a rectangular grid of numbers or terms (like an Excel spreadsheet) with special rules for addition, subtraction, and multiplication."
   ]
  },
  {
   "cell_type": "markdown",
   "metadata": {
    "slideshow": {
     "slide_type": "slide"
    }
   },
   "source": [
    "### 2.1 Dimensions\n",
    "\n",
    "We describe the dimensions of a matrix in terms of rows by columns.\n",
    "\n",
    "![image.png](assets/dimensions.png)\n",
    "\n",
    "The first has dimensions (3,2). The second (2,3).\n",
    "\n",
    "\n"
   ]
  },
  {
   "cell_type": "code",
   "execution_count": 7,
   "metadata": {
    "slideshow": {
     "slide_type": "fragment"
    }
   },
   "outputs": [
    {
     "name": "stdout",
     "output_type": "stream",
     "text": [
      "(2, 3)\n",
      "(1, 3)\n"
     ]
    }
   ],
   "source": [
    "\n",
    "a = np.array([[1,2,3],[4,5,6]])\n",
    "print(a.shape)\n",
    "b = np.array([[1,2,3]])\n",
    "print(b.shape)\n"
   ]
  },
  {
   "cell_type": "markdown",
   "metadata": {
    "slideshow": {
     "slide_type": "slide"
    }
   },
   "source": [
    "### 2.2 Scalar operations\n",
    "\n",
    "Scalar operations with matrices work the same way as they do for vectors. Simply apply the scalar to every element in the matrix - add, subtract, divide, multiply, etc.\n",
    "\n",
    "![image.png](assets/MatrixScalarOperations.png)\n",
    "\n"
   ]
  },
  {
   "cell_type": "code",
   "execution_count": 8,
   "metadata": {
    "slideshow": {
     "slide_type": "fragment"
    }
   },
   "outputs": [
    {
     "name": "stdout",
     "output_type": "stream",
     "text": [
      "[[2 3]\n",
      " [4 5]]\n"
     ]
    }
   ],
   "source": [
    "# Addition\n",
    "a = np.array(\n",
    "[[1,2],\n",
    " [3,4]])\n",
    "print(a + 1)"
   ]
  },
  {
   "cell_type": "markdown",
   "metadata": {
    "slideshow": {
     "slide_type": "slide"
    }
   },
   "source": [
    "\n",
    "### 2.3 Elementwise operations\n",
    "\n",
    "In order to add, subtract, or divide two matrices they must have equal dimensions. We combine corresponding values in an elementwise fashion to produce a new matrix.\n",
    "\n",
    "![image.png](assets/MatrixElementWiseOperations.png)\n",
    "\n",
    "\n",
    "\n"
   ]
  },
  {
   "cell_type": "code",
   "execution_count": 10,
   "metadata": {
    "slideshow": {
     "slide_type": "fragment"
    }
   },
   "outputs": [
    {
     "name": "stdout",
     "output_type": "stream",
     "text": [
      "[[2 4]\n",
      " [6 8]]\n",
      "[[0 0]\n",
      " [0 0]]\n"
     ]
    }
   ],
   "source": [
    "\n",
    "a = np.array([\n",
    " [1,2],\n",
    " [3,4]])\n",
    "b = np.array([\n",
    " [1,2],\n",
    " [3,4]])\n",
    "\n",
    "print(a + b)\n",
    "\n",
    "print(a - b)\n"
   ]
  },
  {
   "cell_type": "markdown",
   "metadata": {
    "slideshow": {
     "slide_type": "slide"
    }
   },
   "source": [
    "### 2.4 Hadamard product\n",
    "\n",
    "Hadamard product of matrices is an elementwise operation. Values that correspond positionally are multiplied to produce a new matrix.\n",
    "\n",
    "![image.png](assets/MatrixHadamardProduct.png)\n",
    "\n",
    "\n",
    "In numpy you can take the Hadamard product of a matrix and vector as long as their dimensions meet the requirements of broadcasting.\n",
    "\n",
    "![image.png](assets/MatrixHadamardProduct1.png)\n",
    "\n",
    "\n"
   ]
  },
  {
   "cell_type": "code",
   "execution_count": 11,
   "metadata": {
    "slideshow": {
     "slide_type": "fragment"
    }
   },
   "outputs": [
    {
     "name": "stdout",
     "output_type": "stream",
     "text": [
      "[[ 6 12]\n",
      " [10 18]]\n"
     ]
    }
   ],
   "source": [
    "\n",
    "a = np.array(\n",
    "[[2,3],\n",
    " [2,3]])\n",
    "b = np.array(\n",
    "[[3,4],\n",
    " [5,6]])\n",
    "\n",
    "# Uses python's multiply operator\n",
    "print(a * b)\n"
   ]
  },
  {
   "cell_type": "markdown",
   "metadata": {
    "slideshow": {
     "slide_type": "slide"
    }
   },
   "source": [
    "### 2.5 Matrix transpose\n",
    "\n",
    "Neural networks frequently process weights and inputs of different sizes where the dimensions do not meet the requirements of matrix multiplication. Matrix transposition (often denoted by a superscript 'T' e.g. M^T) provides a way to \"rotate\" one of the matrices so that the operation complies with multiplication requirements and can continue. There are two steps to transpose a matrix:\n",
    "\n",
    "\n",
    "\n",
    "1. Rotate the matrix right 90°\n",
    "2. Reverse the order of elements in each row (e.g. [a b c] becomes [c b a])\n",
    "\n",
    "As an example, transpose matrix M into T:\n",
    "\n",
    "![image.png](assets/MatrixTranspose.png)\n",
    "\n",
    "\n"
   ]
  },
  {
   "cell_type": "code",
   "execution_count": 12,
   "metadata": {
    "slideshow": {
     "slide_type": "fragment"
    }
   },
   "outputs": [
    {
     "data": {
      "text/plain": [
       "array([[1, 3],\n",
       "       [2, 4]])"
      ]
     },
     "execution_count": 12,
     "metadata": {},
     "output_type": "execute_result"
    }
   ],
   "source": [
    "\n",
    "a = np.array([\n",
    "   [1, 2],\n",
    "   [3, 4]])\n",
    "\n",
    "a.T\n"
   ]
  },
  {
   "cell_type": "markdown",
   "metadata": {
    "slideshow": {
     "slide_type": "slide"
    }
   },
   "source": [
    "### 2.6 Matrix multiplication\n",
    "\n",
    "Matrix multiplication specifies a set of rules for multiplying matrices together to produce a new matrix.\n",
    "\n",
    "**Rules**\n",
    "\n",
    "Not all matrices are eligible for multiplication. In addition, there is a requirement on the dimensions of the resulting matrix output. Source.\n",
    "\n",
    "\n",
    "\n",
    "1. The number of columns of the 1st matrix must equal the number of rows of the 2nd\n",
    "2. The product of an M x N matrix and an N x K matrix is an M x K matrix. The new matrix takes the rows of the 1st and columns of the 2nd\n",
    "\n",
    "**Steps**\n",
    "\n",
    "Matrix multiplication relies on dot product to multiply various combinations of rows and columns. In the image below, taken from Khan Academy's excellent linear algebra course, each entry in Matrix C is the dot product of a row in matrix A and a column in matrix B.\n",
    "\n",
    "![image.png](assets/MatrixMultiplication.png)\n",
    "\n",
    "The operation a1 · b1 means we take the dot product of the 1st row in matrix A (1, 7) and the 1st column in matrix B (3, 5).\n",
    "\n",
    "![image.png](assets/MatrixMultiplication1.png)\n",
    "\n",
    "Here's another way to look at it:\n",
    "\n",
    "![image.png](assets/MatrixMultiplication2.png)\n",
    "\n"
   ]
  },
  {
   "cell_type": "markdown",
   "metadata": {
    "slideshow": {
     "slide_type": "slide"
    }
   },
   "source": [
    "### 2.7 Test yourself\n",
    "\n",
    "1. What are the dimensions of the matrix product?\n",
    "\n",
    "![image.png](assets/Question1.PNG)\n",
    "\n",
    "2. What are the dimensions of the matrix product?\n",
    "\n",
    "![image.png](assets/Question2.PNG)\n",
    "\n",
    "3. What is the matrix product?\n",
    "\n",
    "![image.png](assets/Question3.PNG)\n",
    "\n",
    "4. What is the matrix product?\n",
    "\n",
    "![image.png](assets/Question4.PNG)\n",
    "\n",
    "5. What is the matrix product?\n",
    "\n",
    "![image.png](assets/Question5.PNG)\n",
    "\n"
   ]
  },
  {
   "cell_type": "markdown",
   "metadata": {
    "slideshow": {
     "slide_type": "slide"
    }
   },
   "source": [
    "## 3. Numpy\n",
    "\n",
    "### 3.1 Dot product\n",
    "\n",
    "Numpy uses the function np.dot(A,B) for both vector and matrix multiplication. It has some other interesting features and gotchas so I encourage you to read the documentation here before use.\n",
    "\n",
    "\n"
   ]
  },
  {
   "cell_type": "code",
   "execution_count": 13,
   "metadata": {
    "slideshow": {
     "slide_type": "fragment"
    }
   },
   "outputs": [
    {
     "name": "stdout",
     "output_type": "stream",
     "text": [
      "(1, 2) (2, 2)\n",
      "[[13 16]]\n"
     ]
    }
   ],
   "source": [
    "\n",
    "a = np.array([\n",
    " [1, 2]\n",
    " ])\n",
    "\n",
    "b = np.array([\n",
    " [3, 4],\n",
    " [5, 6]\n",
    " ])\n",
    "\n",
    "print(a.shape, b.shape)\n",
    "# Multiply\n",
    "mm = np.dot(a,b)\n",
    "print(mm)"
   ]
  },
  {
   "cell_type": "markdown",
   "metadata": {
    "slideshow": {
     "slide_type": "slide"
    }
   },
   "source": [
    "\n",
    "### 3.2 Broadcasting\n",
    "\n",
    "In numpy the dimension requirements for elementwise operations are relaxed via a mechanism called broadcasting. Two matrices are compatible if the corresponding dimensions in each matrix (rows vs rows, columns vs columns) meet the following requirements:\n",
    "\n",
    "\n",
    "\n",
    "1. The dimensions are equal, or\n",
    "2. One dimension is of size 1\n",
    "\n"
   ]
  },
  {
   "cell_type": "code",
   "execution_count": 15,
   "metadata": {
    "slideshow": {
     "slide_type": "fragment"
    }
   },
   "outputs": [
    {
     "name": "stdout",
     "output_type": "stream",
     "text": [
      "[[ 3  4]\n",
      " [10 12]]\n",
      "[[ 3  8]\n",
      " [ 5 12]]\n",
      "[[2 3]\n",
      " [3 4]]\n"
     ]
    }
   ],
   "source": [
    "\n",
    "a = np.array([\n",
    " [1],\n",
    " [2]\n",
    "])\n",
    "b = np.array([\n",
    " [3,4],\n",
    " [5,6]\n",
    "])\n",
    "c = np.array([\n",
    " [1,2]\n",
    "])\n",
    "\n",
    "# Same no. of rows\n",
    "# Different no. of columns\n",
    "# but a has one column so this works\n",
    "print(a * b)\n",
    "\n",
    "# Same no. of columns\n",
    "# Different no. of rows\n",
    "# but c has one row so this works\n",
    "print(b * c)\n",
    "\n",
    "\n",
    "# Different no. of columns\n",
    "# Different no. of rows\n",
    "# but both a and c meet the\n",
    "# size 1 requirement rule\n",
    "print(a + c)\n"
   ]
  },
  {
   "cell_type": "markdown",
   "metadata": {
    "slideshow": {
     "slide_type": "slide"
    }
   },
   "source": [
    "Tutorials\n",
    "\n",
    "* [Khan Academy Linear Algebra](https://medium.com/r/?url=https%3A%2F%2Fwww.khanacademy.org%2Fmath%2Flinear-algebra)\n",
    "* [Deep Learning Book Math](https://medium.com/r/?url=http%3A%2F%2Fwww.deeplearningbook.org%2Fcontents%2Fpart_basics.html)\n",
    "* [Andrew Ng Course Notes](https://medium.com/r/?url=https%3A%2F%2Fwww.coursera.org%2Flearn%2Fmachine-learning%2Fresources%2FJXWWS)\n",
    "* [Linear Algebra Better Explained](https://medium.com/r/?url=https%3A%2F%2Fbetterexplained.com%2Farticles%2Flinear-algebra-guide%2F)\n",
    "* [Understanding Matrices Intuitively](https://medium.com/r/?url=http%3A%2F%2Fblog.stata.com%2F2011%2F03%2F03%2Funderstanding-matrices-intuitively-part-1%2F)\n",
    "* [Intro To Linear Algebra](https://medium.com/r/?url=http%3A%2F%2Fwww.holehouse.org%2Fmlclass%2F03_Linear_algebra_review.html)\n",
    "* [Immersive Math](https://medium.com/r/?url=http%3A%2F%2Fimmersivemath.com%2Fila%2Findex.html)\n",
    "* [Linear Algebra](https://ml-cheatsheet.readthedocs.io/en/latest/linear_algebra.html)"
   ]
  }
 ],
 "metadata": {
  "celltoolbar": "Slideshow",
  "kernelspec": {
   "display_name": "Python 3",
   "language": "python",
   "name": "python3"
  },
  "language_info": {
   "codemirror_mode": {
    "name": "ipython",
    "version": 3
   },
   "file_extension": ".py",
   "mimetype": "text/x-python",
   "name": "python",
   "nbconvert_exporter": "python",
   "pygments_lexer": "ipython3",
   "version": "3.7.1"
  }
 },
 "nbformat": 4,
 "nbformat_minor": 2
}
