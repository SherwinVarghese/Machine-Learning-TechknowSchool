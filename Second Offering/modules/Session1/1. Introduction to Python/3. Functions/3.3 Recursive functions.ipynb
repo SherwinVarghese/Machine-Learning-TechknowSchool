{
 "cells": [
  {
   "cell_type": "markdown",
   "metadata": {
    "slideshow": {
     "slide_type": "slide"
    }
   },
   "source": [
    "# Recursion"
   ]
  },
  {
   "cell_type": "markdown",
   "metadata": {
    "slideshow": {
     "slide_type": "fragment"
    }
   },
   "source": [
    "We know that in Python, a function can call other functions. It is even possible for the function to call itself. These type of construct are termed as recursive functions."
   ]
  },
  {
   "cell_type": "markdown",
   "metadata": {
    "slideshow": {
     "slide_type": "fragment"
    }
   },
   "source": [
    "# Example:"
   ]
  },
  {
   "cell_type": "code",
   "execution_count": 2,
   "metadata": {
    "slideshow": {
     "slide_type": "fragment"
    }
   },
   "outputs": [
    {
     "name": "stdout",
     "output_type": "stream",
     "text": [
      "Factorial of 5 is 120 \n"
     ]
    }
   ],
   "source": [
    "#python program to print factorial of a number using recurion\n",
    "\n",
    "def factorial(num):\n",
    "    \"\"\"\n",
    "    This is a recursive function to find the factorial of a given number\n",
    "    \"\"\"\n",
    "    return 1 if num == 1 else (num * factorial(num-1))\n",
    "\n",
    "num = 5\n",
    "print(\"Factorial of {0} is {1} \".format(num, factorial(num)))\n"
   ]
  },
  {
   "cell_type": "markdown",
   "metadata": {
    "slideshow": {
     "slide_type": "slide"
    }
   },
   "source": [
    "# Advantages"
   ]
  },
  {
   "cell_type": "markdown",
   "metadata": {
    "slideshow": {
     "slide_type": "fragment"
    }
   },
   "source": [
    "1. Recursive functions make the code look clean and elegant.\n",
    "\n",
    "2. A complex task can be broken down into simpler sub-problems using recursion.\n",
    "\n",
    "3. Sequence generation is easier with recursion than using some nested iteration.\n"
   ]
  },
  {
   "cell_type": "markdown",
   "metadata": {
    "slideshow": {
     "slide_type": "slide"
    }
   },
   "source": [
    "# Disadvantages"
   ]
  },
  {
   "cell_type": "markdown",
   "metadata": {
    "slideshow": {
     "slide_type": "fragment"
    }
   },
   "source": [
    "1. Sometimes the logic behind recursion is hard to follow through.\n",
    "\n",
    "2. Recursive calls are expensive (inefficient) as they take up a lot of memory and time.\n",
    "\n",
    "3. Recursive functions are hard to debug.\n"
   ]
  },
  {
   "cell_type": "markdown",
   "metadata": {
    "slideshow": {
     "slide_type": "slide"
    }
   },
   "source": [
    "# Assignment 3.3: Python program to display the fibonacci sequence up to n-th term using recursive function"
   ]
  }
 ],
 "metadata": {
  "celltoolbar": "Slideshow",
  "kernelspec": {
   "display_name": "Python 3",
   "language": "python",
   "name": "python3"
  },
  "language_info": {
   "codemirror_mode": {
    "name": "ipython",
    "version": 3
   },
   "file_extension": ".py",
   "mimetype": "text/x-python",
   "name": "python",
   "nbconvert_exporter": "python",
   "pygments_lexer": "ipython3",
   "version": "3.7.1"
  }
 },
 "nbformat": 4,
 "nbformat_minor": 2
}
