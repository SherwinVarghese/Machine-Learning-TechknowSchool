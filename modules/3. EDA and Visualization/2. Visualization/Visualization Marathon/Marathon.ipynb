{
 "cells": [
  {
   "cell_type": "markdown",
   "metadata": {},
   "source": [
    "# Marathon Dataset"
   ]
  },
  {
   "cell_type": "code",
   "execution_count": null,
   "metadata": {},
   "outputs": [],
   "source": [
    "import matplotlib.pyplot as plt\n",
    "import numpy as np\n",
    "import pandas as pd\n",
    "import seaborn as sns\n",
    "import warnings\n",
    "warnings.filterwarnings('ignore')\n",
    "%matplotlib inline\n"
   ]
  },
  {
   "cell_type": "code",
   "execution_count": null,
   "metadata": {},
   "outputs": [],
   "source": [
    "data = pd.read_csv('marathon-data.csv')\n",
    "data.head()"
   ]
  },
  {
   "cell_type": "markdown",
   "metadata": {},
   "source": [
    "### Terminology"
   ]
  },
  {
   "cell_type": "markdown",
   "metadata": {},
   "source": [
    "* Splits= a race or run’s total time divided into parts (usually km or miles)\n",
    "* Negative split= running the second half of a race faster than the first half; ideal way to pace most races\n",
    "* Positive split= running the second half of the race slower than the first half\n",
    "* Even split= running the first and second half of a race at a consistent pace"
   ]
  },
  {
   "cell_type": "code",
   "execution_count": null,
   "metadata": {},
   "outputs": [],
   "source": [
    "\"\"\" By default, Pandas loaded the time columns as Python strings (type object); we can \n",
    "see this by looking at the dtypes attribute of the DataFrame:\"\"\"\n",
    "\n",
    "# (Q) Find out the data types of the attributes in the data\n",
    "data.dtypes"
   ]
  },
  {
   "cell_type": "code",
   "execution_count": null,
   "metadata": {},
   "outputs": [],
   "source": [
    "# Convert time into the desired format\n",
    "\n",
    "def convert_time(s):\n",
    "    h, m, s = map(int, s.split(':'))\n",
    "    return pd.datetools.timedelta(hours=h, minutes=m, seconds=s)\n",
    "data = pd.read_csv('marathon-data.csv', converters={'split':convert_time, 'final':convert_time})\n",
    "data.head()"
   ]
  },
  {
   "cell_type": "code",
   "execution_count": null,
   "metadata": {},
   "outputs": [],
   "source": [
    "# (Q) Find out the data types of the attributes in the data after conversion"
   ]
  },
  {
   "cell_type": "code",
   "execution_count": null,
   "metadata": {},
   "outputs": [],
   "source": [
    "\"\"\"That looks much better. For the purpose of our Seaborn plotting utilities, let’s next\n",
    "add columns that give the times in seconds:\"\"\"\n",
    "# Creating the split_sec attribute using the split attribute\n",
    "data['split_sec'] = data['split'] / np.timedelta64(1, 's')\n",
    "\n",
    "#(Q) repeat the same for the final attribute and create final_sec attribute\n",
    "data['final_sec'] = data['final'] / np.timedelta64(1, 's')\n",
    "data.head()"
   ]
  },
  {
   "cell_type": "code",
   "execution_count": null,
   "metadata": {},
   "outputs": [],
   "source": [
    "# To get an idea of what the data looks like, we can plot a jointplot over the data\n",
    "\n",
    "#(Q) Generate a seaborn joint plot using the split_sec and final_sec attributes"
   ]
  },
  {
   "cell_type": "markdown",
   "metadata": {},
   "source": [
    "### Observations\n",
    "The dotted line shows where someone’s time would lie if they ran the marathon at a\n",
    "perfectly steady pace. The fact that the distribution lies above this indicates (as you\n",
    "might expect) that most people slow down over the course of the marathon."
   ]
  },
  {
   "cell_type": "code",
   "execution_count": null,
   "metadata": {},
   "outputs": [],
   "source": [
    "\"\"\"Let’s create another column in the data, the split fraction, which measures the degree\n",
    "to which each runner negative-splits or positive-splits the race:\"\"\"\n",
    "\n",
    "# generating split fraction attribute using the formula\n",
    "data['split_frac'] = 1 - 2 * data['split_sec'] / data['final_sec']\n",
    "data.head()"
   ]
  },
  {
   "cell_type": "code",
   "execution_count": null,
   "metadata": {},
   "outputs": [],
   "source": [
    "\"\"\"Where this split difference is less than zero, the person negative-split the race by that\n",
    "fraction. Let’s do a distribution plot of this split fraction \"\"\"\n",
    "\n",
    "#(Q) Generate a distribution plot for split fraction attribute"
   ]
  },
  {
   "cell_type": "code",
   "execution_count": null,
   "metadata": {},
   "outputs": [],
   "source": [
    "#(Q) Find number of points having split fraction less than 0"
   ]
  },
  {
   "cell_type": "markdown",
   "metadata": {},
   "source": [
    "Out of nearly 40,000 participants, there were only 250 people who negative-split their\n",
    "marathon.\n",
    "Let’s see whether there is any correlation between this split fraction and other variables.\n",
    "We’ll do this using a pairgrid, which draws plots of all these correlations"
   ]
  },
  {
   "cell_type": "code",
   "execution_count": null,
   "metadata": {},
   "outputs": [],
   "source": [
    "#(Q) Generate a PairGrid plot with the variables : age, split_sec, final_sec, split_frac with the hue: gender as 'g'\n",
    "# 'g' should be used to map the scatter plot\n",
    "\n",
    "#Code goes here \n",
    "g.map(plt.scatter, alpha=0.8)\n",
    "g.add_legend();"
   ]
  },
  {
   "cell_type": "markdown",
   "metadata": {},
   "source": [
    "### Observations\n",
    "It looks like the split fraction does not correlate particularly with age, but does correlate\n",
    "with the final time: faster runners tend to have closer to even splits on their marathon\n",
    "time."
   ]
  },
  {
   "cell_type": "code",
   "execution_count": null,
   "metadata": {},
   "outputs": [],
   "source": [
    "\"\"\"The difference between men and women here is interesting. Let’s look at the histogram\n",
    "of split fractions for these two groups\"\"\"\n",
    "\n",
    "#Generate a KDE plot for all the men  \n",
    "sns.kdeplot(data.split_frac[data.gender=='M'], label='men', shade=True)\n",
    "#(Q) Generate a KDE plot for all the women \n",
    "#Code goes here\n",
    "plt.xlabel('split_frac');"
   ]
  },
  {
   "cell_type": "markdown",
   "metadata": {},
   "source": [
    "The interesting thing here is that there are many more men than women who are\n",
    "running close to an even split! This almost looks like some kind of bimodal distribution\n",
    "among the men and women."
   ]
  },
  {
   "cell_type": "code",
   "execution_count": null,
   "metadata": {},
   "outputs": [],
   "source": [
    "#nice way to compare distributions is to use a violin plot\n",
    "#(Q) Generate a voilin plot for gender and split_frac with the palette \n"
   ]
  },
  {
   "cell_type": "markdown",
   "metadata": {},
   "source": [
    "This is yet another way to compare the distributions between men and women.\n",
    "Let’s look a little deeper, and compare these violin plots as a function of age. We’ll\n",
    "start by creating a new column in the array that specifies the decade of age that each\n",
    "person is in"
   ]
  },
  {
   "cell_type": "code",
   "execution_count": null,
   "metadata": {},
   "outputs": [],
   "source": [
    "data['age_dec'] = data.age.map(lambda age: 10 * (age // 10))\n",
    "data.head()"
   ]
  },
  {
   "cell_type": "code",
   "execution_count": null,
   "metadata": {},
   "outputs": [],
   "source": [
    "men = (data.gender == 'M')\n",
    "women = (data.gender == 'W')\n",
    "#(Q) Generate a voilin plot for age_dec and split_frac with hue: gender and the palette \n"
   ]
  },
  {
   "cell_type": "markdown",
   "metadata": {},
   "source": [
    "Looking at this, we can see where the distributions of men and women differ: the split\n",
    "distributions of men in their 20s to 50s show a pronounced over-density toward\n",
    "lower splits when compared to women of the same age (or of any age, for that\n",
    "matter)."
   ]
  },
  {
   "cell_type": "markdown",
   "metadata": {},
   "source": [
    "### Back to the men with negative splits: who are these runners? Does this split fraction correlate with finishing quickly? We can plot this very easily. We’ll use regplot, which will automatically fit a linear regression to the data"
   ]
  },
  {
   "cell_type": "code",
   "execution_count": null,
   "metadata": {},
   "outputs": [],
   "source": [
    "#(Q) Generate a lmplot using seaborn for final sec and split fraction attributes with color as gender "
   ]
  },
  {
   "cell_type": "markdown",
   "metadata": {},
   "source": [
    "Apparently the people with fast splits are the elite runners who are finishing within\n",
    "~15,000 seconds, or about 4 hours. People slower than that are much less likely to\n",
    "have a fast second split."
   ]
  }
 ],
 "metadata": {
  "kernelspec": {
   "display_name": "Python 3",
   "language": "python",
   "name": "python3"
  },
  "language_info": {
   "codemirror_mode": {
    "name": "ipython",
    "version": 3
   },
   "file_extension": ".py",
   "mimetype": "text/x-python",
   "name": "python",
   "nbconvert_exporter": "python",
   "pygments_lexer": "ipython3",
   "version": "3.7.1"
  }
 },
 "nbformat": 4,
 "nbformat_minor": 2
}
