{
 "cells": [
  {
   "cell_type": "markdown",
   "metadata": {},
   "source": [
    "## Regression"
   ]
  },
  {
   "cell_type": "markdown",
   "metadata": {},
   "source": [
    "This Notebook gives an overview regarding the regression models. In this notebook we'll try to cover the few concepts\n",
    "\n",
    "-  Linear Regression using Sklearn\n",
    "-  Comparing different Linear regression Models \n",
    "-  Polynomial Regression\n"
   ]
  },
  {
   "cell_type": "code",
   "execution_count": 1,
   "metadata": {
    "collapsed": true
   },
   "outputs": [],
   "source": [
    "# Loading the libraries\n",
    "from sklearn import datasets, model_selection\n",
    "import pandas as pd\n",
    "import numpy as np\n",
    "import matplotlib.pyplot as plt"
   ]
  },
  {
   "cell_type": "markdown",
   "metadata": {},
   "source": [
    "For linear regression models we will try with only one column so we can plot the graph too. "
   ]
  },
  {
   "cell_type": "code",
   "execution_count": 2,
   "metadata": {
    "collapsed": true
   },
   "outputs": [],
   "source": [
    "#loading the data\n",
    "diabetes = datasets.load_diabetes()\n",
    "\n",
    "X = diabetes.data\n",
    "#reducing the dimensions\n",
    "X = X[:, np.newaxis, 2]\n",
    "Y = diabetes.target"
   ]
  },
  {
   "cell_type": "code",
   "execution_count": 3,
   "metadata": {},
   "outputs": [
    {
     "data": {
      "text/html": [
       "<div>\n",
       "<style>\n",
       "    .dataframe thead tr:only-child th {\n",
       "        text-align: right;\n",
       "    }\n",
       "\n",
       "    .dataframe thead th {\n",
       "        text-align: left;\n",
       "    }\n",
       "\n",
       "    .dataframe tbody tr th {\n",
       "        vertical-align: top;\n",
       "    }\n",
       "</style>\n",
       "<table border=\"1\" class=\"dataframe\">\n",
       "  <thead>\n",
       "    <tr style=\"text-align: right;\">\n",
       "      <th></th>\n",
       "      <th>Inputs</th>\n",
       "    </tr>\n",
       "  </thead>\n",
       "  <tbody>\n",
       "    <tr>\n",
       "      <th>0</th>\n",
       "      <td>0.061696</td>\n",
       "    </tr>\n",
       "    <tr>\n",
       "      <th>1</th>\n",
       "      <td>-0.051474</td>\n",
       "    </tr>\n",
       "    <tr>\n",
       "      <th>2</th>\n",
       "      <td>0.044451</td>\n",
       "    </tr>\n",
       "    <tr>\n",
       "      <th>3</th>\n",
       "      <td>-0.011595</td>\n",
       "    </tr>\n",
       "    <tr>\n",
       "      <th>4</th>\n",
       "      <td>-0.036385</td>\n",
       "    </tr>\n",
       "  </tbody>\n",
       "</table>\n",
       "</div>"
      ],
      "text/plain": [
       "     Inputs\n",
       "0  0.061696\n",
       "1 -0.051474\n",
       "2  0.044451\n",
       "3 -0.011595\n",
       "4 -0.036385"
      ]
     },
     "execution_count": 3,
     "metadata": {},
     "output_type": "execute_result"
    }
   ],
   "source": [
    "X_df = pd.DataFrame(X, columns=[\"Inputs\"])\n",
    "X_df.head()"
   ]
  },
  {
   "cell_type": "code",
   "execution_count": 4,
   "metadata": {},
   "outputs": [
    {
     "data": {
      "text/html": [
       "<div>\n",
       "<style>\n",
       "    .dataframe thead tr:only-child th {\n",
       "        text-align: right;\n",
       "    }\n",
       "\n",
       "    .dataframe thead th {\n",
       "        text-align: left;\n",
       "    }\n",
       "\n",
       "    .dataframe tbody tr th {\n",
       "        vertical-align: top;\n",
       "    }\n",
       "</style>\n",
       "<table border=\"1\" class=\"dataframe\">\n",
       "  <thead>\n",
       "    <tr style=\"text-align: right;\">\n",
       "      <th></th>\n",
       "      <th>targets</th>\n",
       "    </tr>\n",
       "  </thead>\n",
       "  <tbody>\n",
       "    <tr>\n",
       "      <th>0</th>\n",
       "      <td>151.0</td>\n",
       "    </tr>\n",
       "    <tr>\n",
       "      <th>1</th>\n",
       "      <td>75.0</td>\n",
       "    </tr>\n",
       "    <tr>\n",
       "      <th>2</th>\n",
       "      <td>141.0</td>\n",
       "    </tr>\n",
       "    <tr>\n",
       "      <th>3</th>\n",
       "      <td>206.0</td>\n",
       "    </tr>\n",
       "    <tr>\n",
       "      <th>4</th>\n",
       "      <td>135.0</td>\n",
       "    </tr>\n",
       "  </tbody>\n",
       "</table>\n",
       "</div>"
      ],
      "text/plain": [
       "   targets\n",
       "0    151.0\n",
       "1     75.0\n",
       "2    141.0\n",
       "3    206.0\n",
       "4    135.0"
      ]
     },
     "execution_count": 4,
     "metadata": {},
     "output_type": "execute_result"
    }
   ],
   "source": [
    "Y_df = pd.DataFrame(Y, columns=[\"targets\"])\n",
    "Y_df.head()"
   ]
  },
  {
   "cell_type": "code",
   "execution_count": 5,
   "metadata": {
    "collapsed": true
   },
   "outputs": [],
   "source": [
    "# Splitting data into test and train sets\n",
    "X_train, X_test, Y_train, Y_test = model_selection.train_test_split(X, Y, test_size=0.25, random_state=31)"
   ]
  },
  {
   "cell_type": "code",
   "execution_count": 6,
   "metadata": {},
   "outputs": [
    {
     "data": {
      "text/plain": [
       "331"
      ]
     },
     "execution_count": 6,
     "metadata": {},
     "output_type": "execute_result"
    }
   ],
   "source": [
    "len(X_train)"
   ]
  },
  {
   "cell_type": "markdown",
   "metadata": {},
   "source": [
    "### Creating different Regression Models"
   ]
  },
  {
   "cell_type": "markdown",
   "metadata": {},
   "source": [
    "__Linear regression__ minimizes the sum of squared distances. Suppose assume our model is in the form of equation in which we need to determine the proper weights.\n",
    "$$\\hat{y}(w, x) = w_0 + w_1 x_1 + ... + w_p x_p$$\n",
    "\n",
    "for more info refer the [link](http://scikit-learn.org/stable/auto_examples/linear_model/plot_ols.html) <br />\n",
    "\n",
    "$$\\underset{w}{min\\,} {|| X w - y||_2}^2$$\n"
   ]
  },
  {
   "cell_type": "code",
   "execution_count": 7,
   "metadata": {},
   "outputs": [
    {
     "name": "stdout",
     "output_type": "stream",
     "text": [
      "Accuracy : 0.427049651842\n"
     ]
    },
    {
     "data": {
      "image/png": "[encoded data removed]",
      "text/plain": [
       "<matplotlib.figure.Figure at 0x29ce6f69908>"
      ]
     },
     "metadata": {},
     "output_type": "display_data"
    }
   ],
   "source": [
    "# Linear Regression \n",
    "\n",
    "from sklearn import linear_model\n",
    "\n",
    "linearRegressionModel = linear_model.LinearRegression()\n",
    "linearRegressionModel.fit(X_train,Y_train)\n",
    "\n",
    "linearRegressionModelPredict = linearRegressionModel.predict(X_test)\n",
    "score = linearRegressionModel.score(X_test, Y_test)\n",
    "\n",
    "print(\"Accuracy :\", score)\n",
    "\n",
    "plt.scatter(X_test, Y_test, color='black')\n",
    "plt.plot(X_test, linearRegressionModelPredict)\n",
    "plt.show()\n"
   ]
  },
  {
   "cell_type": "markdown",
   "metadata": {},
   "source": [
    "__Ridge Regression or Linear Regression with Regularization Coefficient__ also tries to reduce the sum of squared distances from the points to equation, by additionally imposing the regularization coefficient. for more information refer [link](http://scikit-learn.org/stable/modules/generated/sklearn.linear_model.Ridge.html) \n",
    "$$\\underset{w}{min\\,} {{|| X w - y||_2}^2 + \\alpha {||w||_2}^2}$$"
   ]
  },
  {
   "cell_type": "code",
   "execution_count": 8,
   "metadata": {},
   "outputs": [
    {
     "name": "stdout",
     "output_type": "stream",
     "text": [
      "Accuracy : 0.425844297903\n"
     ]
    },
    {
     "data": {
      "image/png": "[encoded data removed]",
      "text/plain": [
       "<matplotlib.figure.Figure at 0x29ce6f039e8>"
      ]
     },
     "metadata": {},
     "output_type": "display_data"
    }
   ],
   "source": [
    "from sklearn import linear_model\n",
    "\n",
    "RidgeModel = linear_model.Ridge(alpha = 0.005)\n",
    "RidgeModel.fit(X_train, Y_train)\n",
    "\n",
    "RidgeModelPredict = RidgeModel.predict(X_test)\n",
    "score = RidgeModel.score(X_test, Y_test)\n",
    "\n",
    "print(\"Accuracy :\", score)\n",
    "plt.scatter(X_test, Y_test, color=\"black\")\n",
    "plt.plot(X_test, RidgeModelPredict, color=\"red\")\n",
    "plt.show()"
   ]
  },
  {
   "cell_type": "markdown",
   "metadata": {},
   "source": [
    "### Polynomial Regression "
   ]
  },
  {
   "cell_type": "markdown",
   "metadata": {},
   "source": [
    "For more documentation refer the links provided\n",
    "- [link 1](http://scikit-learn.org/stable/auto_examples/linear_model/plot_polynomial_interpolation.html)\n",
    "- [link 2](http://scikit-learn.org/stable/modules/linear_model.html#polynomial-regression-extending-linear-models-with-basis-functions)"
   ]
  },
  {
   "cell_type": "code",
   "execution_count": 9,
   "metadata": {},
   "outputs": [
    {
     "data": {
      "text/html": [
       "<div>\n",
       "<style>\n",
       "    .dataframe thead tr:only-child th {\n",
       "        text-align: right;\n",
       "    }\n",
       "\n",
       "    .dataframe thead th {\n",
       "        text-align: left;\n",
       "    }\n",
       "\n",
       "    .dataframe tbody tr th {\n",
       "        vertical-align: top;\n",
       "    }\n",
       "</style>\n",
       "<table border=\"1\" class=\"dataframe\">\n",
       "  <thead>\n",
       "    <tr style=\"text-align: right;\">\n",
       "      <th></th>\n",
       "      <th>CRIM</th>\n",
       "      <th>ZN</th>\n",
       "      <th>INDUS</th>\n",
       "      <th>CHAS</th>\n",
       "      <th>NOX</th>\n",
       "      <th>RM</th>\n",
       "      <th>AGE</th>\n",
       "      <th>DIS</th>\n",
       "      <th>RAD</th>\n",
       "      <th>TAX</th>\n",
       "      <th>PTRATIO</th>\n",
       "      <th>B</th>\n",
       "      <th>LSTAT</th>\n",
       "    </tr>\n",
       "  </thead>\n",
       "  <tbody>\n",
       "    <tr>\n",
       "      <th>0</th>\n",
       "      <td>0.00632</td>\n",
       "      <td>18.0</td>\n",
       "      <td>2.31</td>\n",
       "      <td>0.0</td>\n",
       "      <td>0.538</td>\n",
       "      <td>6.575</td>\n",
       "      <td>65.2</td>\n",
       "      <td>4.0900</td>\n",
       "      <td>1.0</td>\n",
       "      <td>296.0</td>\n",
       "      <td>15.3</td>\n",
       "      <td>396.90</td>\n",
       "      <td>4.98</td>\n",
       "    </tr>\n",
       "    <tr>\n",
       "      <th>1</th>\n",
       "      <td>0.02731</td>\n",
       "      <td>0.0</td>\n",
       "      <td>7.07</td>\n",
       "      <td>0.0</td>\n",
       "      <td>0.469</td>\n",
       "      <td>6.421</td>\n",
       "      <td>78.9</td>\n",
       "      <td>4.9671</td>\n",
       "      <td>2.0</td>\n",
       "      <td>242.0</td>\n",
       "      <td>17.8</td>\n",
       "      <td>396.90</td>\n",
       "      <td>9.14</td>\n",
       "    </tr>\n",
       "    <tr>\n",
       "      <th>2</th>\n",
       "      <td>0.02729</td>\n",
       "      <td>0.0</td>\n",
       "      <td>7.07</td>\n",
       "      <td>0.0</td>\n",
       "      <td>0.469</td>\n",
       "      <td>7.185</td>\n",
       "      <td>61.1</td>\n",
       "      <td>4.9671</td>\n",
       "      <td>2.0</td>\n",
       "      <td>242.0</td>\n",
       "      <td>17.8</td>\n",
       "      <td>392.83</td>\n",
       "      <td>4.03</td>\n",
       "    </tr>\n",
       "    <tr>\n",
       "      <th>3</th>\n",
       "      <td>0.03237</td>\n",
       "      <td>0.0</td>\n",
       "      <td>2.18</td>\n",
       "      <td>0.0</td>\n",
       "      <td>0.458</td>\n",
       "      <td>6.998</td>\n",
       "      <td>45.8</td>\n",
       "      <td>6.0622</td>\n",
       "      <td>3.0</td>\n",
       "      <td>222.0</td>\n",
       "      <td>18.7</td>\n",
       "      <td>394.63</td>\n",
       "      <td>2.94</td>\n",
       "    </tr>\n",
       "    <tr>\n",
       "      <th>4</th>\n",
       "      <td>0.06905</td>\n",
       "      <td>0.0</td>\n",
       "      <td>2.18</td>\n",
       "      <td>0.0</td>\n",
       "      <td>0.458</td>\n",
       "      <td>7.147</td>\n",
       "      <td>54.2</td>\n",
       "      <td>6.0622</td>\n",
       "      <td>3.0</td>\n",
       "      <td>222.0</td>\n",
       "      <td>18.7</td>\n",
       "      <td>396.90</td>\n",
       "      <td>5.33</td>\n",
       "    </tr>\n",
       "  </tbody>\n",
       "</table>\n",
       "</div>"
      ],
      "text/plain": [
       "      CRIM    ZN  INDUS  CHAS    NOX     RM   AGE     DIS  RAD    TAX  \\\n",
       "0  0.00632  18.0   2.31   0.0  0.538  6.575  65.2  4.0900  1.0  296.0   \n",
       "1  0.02731   0.0   7.07   0.0  0.469  6.421  78.9  4.9671  2.0  242.0   \n",
       "2  0.02729   0.0   7.07   0.0  0.469  7.185  61.1  4.9671  2.0  242.0   \n",
       "3  0.03237   0.0   2.18   0.0  0.458  6.998  45.8  6.0622  3.0  222.0   \n",
       "4  0.06905   0.0   2.18   0.0  0.458  7.147  54.2  6.0622  3.0  222.0   \n",
       "\n",
       "   PTRATIO       B  LSTAT  \n",
       "0     15.3  396.90   4.98  \n",
       "1     17.8  396.90   9.14  \n",
       "2     17.8  392.83   4.03  \n",
       "3     18.7  394.63   2.94  \n",
       "4     18.7  396.90   5.33  "
      ]
     },
     "execution_count": 9,
     "metadata": {},
     "output_type": "execute_result"
    }
   ],
   "source": [
    "from sklearn import linear_model # for regression model\n",
    "from sklearn import preprocessing # for making into polynomial expression \n",
    "from sklearn import pipeline # executing multiple commands at a time\n",
    "from sklearn import datasets # importing the data\n",
    "from sklearn import model_selection # for splitting the data into test and training set\n",
    "\n",
    "import numpy as np\n",
    "import pandas as pd\n",
    "\n",
    "import matplotlib.pyplot as plt\n",
    "\n",
    "#loading the data\n",
    "housesData = datasets.load_boston()\n",
    "X = pd.DataFrame(housesData.data, columns=housesData.feature_names)\n",
    "Y = pd.DataFrame(housesData.target, columns=[\"targets\"])\n",
    "\n",
    "X.head()"
   ]
  },
  {
   "cell_type": "code",
   "execution_count": 10,
   "metadata": {},
   "outputs": [
    {
     "name": "stdout",
     "output_type": "stream",
     "text": [
      "<class 'pandas.core.frame.DataFrame'>\n",
      "RangeIndex: 506 entries, 0 to 505\n",
      "Data columns (total 1 columns):\n",
      "targets    506 non-null float64\n",
      "dtypes: float64(1)\n",
      "memory usage: 4.0 KB\n"
     ]
    }
   ],
   "source": [
    "Y.info()\n",
    "\n",
    "#split the data into test and training set\n",
    "X_train, X_test, Y_train, Y_test = model_selection.train_test_split(X, Y, test_size=0.25, random_state=99)"
   ]
  },
  {
   "cell_type": "markdown",
   "metadata": {},
   "source": [
    "Polynomial regression using multi Inputs"
   ]
  },
  {
   "cell_type": "code",
   "execution_count": 11,
   "metadata": {},
   "outputs": [
    {
     "name": "stdout",
     "output_type": "stream",
     "text": [
      "Accuracy for training  1  is :  0.756122108276\n",
      "Accuracy for testing   1  is :  0.68716355346\n",
      "Accuracy for training  2  is :  0.941455086567\n",
      "Accuracy for testing   2  is :  0.442758970536\n",
      "Accuracy for training  3  is :  1.0\n",
      "Accuracy for testing   3  is :  -2056.70635636\n",
      "Accuracy for training  4  is :  1.0\n",
      "Accuracy for testing   4  is :  -107.10963264\n",
      "Accuracy for training  5  is :  1.0\n",
      "Accuracy for testing   5  is :  -217.667429626\n"
     ]
    }
   ],
   "source": [
    "#Create a polynomial Expression without using pipeline\n",
    "\n",
    "degrees = [1,2,3,4,5]\n",
    "for deg in degrees:\n",
    "    poly = preprocessing.PolynomialFeatures(deg)\n",
    "    X_train_ = poly.fit_transform(X_train)\n",
    "    model = linear_model.LinearRegression(fit_intercept=False)\n",
    "    model.fit(X_train_, Y_train)\n",
    "    \n",
    "    accuracy = model.score(X_train_, Y_train)\n",
    "    print(\"Accuracy for training \" ,  deg , \" is : \", accuracy)\n",
    "    X_test_ = poly.fit_transform(X_test)\n",
    "    accuracy = model.score(X_test_, Y_test)\n",
    "    print(\"Accuracy for testing  \" ,  deg , \" is : \", accuracy)\n",
    "    \n",
    "    "
   ]
  },
  {
   "cell_type": "code",
   "execution_count": 12,
   "metadata": {},
   "outputs": [
    {
     "name": "stdout",
     "output_type": "stream",
     "text": [
      "Accuracy Score for training at  1  is : 0.756073654009\n",
      "Accuracy Score for testing at   1  is : 0.685878732035\n",
      "Accuracy Score for training at  2  is : 0.938915091158\n",
      "Accuracy Score for testing at   2  is : 0.714157125417\n",
      "Accuracy Score for training at  3  is : -15.1331323117\n",
      "Accuracy Score for testing at   3  is : -468.063089523\n",
      "Accuracy Score for training at  4  is : -30922.2149095\n",
      "Accuracy Score for testing at   4  is : -101426451.947\n",
      "Accuracy Score for training at  5  is : -1.8378537993\n",
      "Accuracy Score for testing at   5  is : -21593.5015864\n"
     ]
    }
   ],
   "source": [
    "import warnings\n",
    "warnings.filterwarnings('ignore')\n",
    "\n",
    "#Creating a model using pipeline\n",
    "for deg in range(1,6):\n",
    "    model = pipeline.Pipeline([('poly', preprocessing.PolynomialFeatures(deg)),\n",
    "                      ('ridge', linear_model.Ridge(alpha=0.1))])\n",
    "    model.fit(X_train,Y_train)\n",
    "    accuracy = model.score(X_train, Y_train)\n",
    "    print(\"Accuracy Score for training at \", deg, \" is :\", accuracy)\n",
    "    accuracy = model.score(X_test, Y_test)\n",
    "    print(\"Accuracy Score for testing at  \", deg, \" is :\", accuracy)\n",
    "    "
   ]
  },
  {
   "cell_type": "markdown",
   "metadata": {},
   "source": [
    "Polynomial Regression using single Input"
   ]
  },
  {
   "cell_type": "code",
   "execution_count": 13,
   "metadata": {
    "collapsed": true
   },
   "outputs": [],
   "source": [
    "housesData = datasets.load_boston()\n",
    "\n",
    "X = housesData.data\n",
    "X = X[:, np.newaxis, 2]\n",
    "Y = housesData.target\n",
    "\n",
    "X_train, X_test, Y_train, Y_test = model_selection.train_test_split(X, Y, test_size=0.25, random_state=67)"
   ]
  },
  {
   "cell_type": "code",
   "execution_count": 14,
   "metadata": {},
   "outputs": [
    {
     "name": "stdout",
     "output_type": "stream",
     "text": [
      "Accuracy Score for training at  1  is : 0.201935676633\n",
      "Accuracy Score for testing at   1  is : 0.279689292554\n",
      "Accuracy Score for training at  2  is : 0.23594195126\n",
      "Accuracy Score for testing at   2  is : 0.322442395521\n",
      "Accuracy Score for training at  3  is : 0.24600593571\n",
      "Accuracy Score for testing at   3  is : 0.319487780466\n",
      "Accuracy Score for training at  4  is : 0.249097669539\n",
      "Accuracy Score for testing at   4  is : 0.313470002006\n",
      "Accuracy Score for training at  5  is : 0.249147408129\n",
      "Accuracy Score for testing at   5  is : 0.311301845569\n"
     ]
    }
   ],
   "source": [
    "for deg in range(1,6):\n",
    "    model = pipeline.Pipeline([('poly', preprocessing.PolynomialFeatures(deg)),\n",
    "                      ('ridge', linear_model.Ridge(alpha=0.1))])\n",
    "    model.fit(X_train,Y_train)\n",
    "    accuracy = model.score(X_train, Y_train)\n",
    "    print(\"Accuracy Score for training at \", deg, \" is :\", accuracy)\n",
    "    accuracy = model.score(X_test, Y_test)\n",
    "    print(\"Accuracy Score for testing at  \", deg, \" is :\", accuracy)\n",
    "    "
   ]
  },
  {
   "cell_type": "code",
   "execution_count": null,
   "metadata": {
    "collapsed": true
   },
   "outputs": [],
   "source": []
  }
 ],
 "metadata": {
  "kernelspec": {
   "display_name": "Python 3",
   "language": "python",
   "name": "python3"
  },
  "language_info": {
   "codemirror_mode": {
    "name": "ipython",
    "version": 3
   },
   "file_extension": ".py",
   "mimetype": "text/x-python",
   "name": "python",
   "nbconvert_exporter": "python",
   "pygments_lexer": "ipython3",
   "version": "3.5.3"
  }
 },
 "nbformat": 4,
 "nbformat_minor": 2
}
