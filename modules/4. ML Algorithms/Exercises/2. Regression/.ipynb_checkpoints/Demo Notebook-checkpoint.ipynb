{
 "cells": [
  {
   "cell_type": "markdown",
   "metadata": {},
   "source": [
    "### Linear Regression For Single Inputs "
   ]
  },
  {
   "cell_type": "code",
   "execution_count": 4,
   "metadata": {
    "collapsed": true
   },
   "outputs": [],
   "source": [
    "%matplotlib inline\n",
    "# Importing Libraries\n",
    "from sklearn import linear_model, model_selection, metrics\n",
    "import matplotlib.pyplot as plt\n",
    "import numpy as np\n",
    "#import random"
   ]
  },
  {
   "cell_type": "code",
   "execution_count": 5,
   "metadata": {
    "collapsed": true
   },
   "outputs": [],
   "source": [
    "# Load the data\n",
    "data = np.genfromtxt('data.csv', delimiter=',')\n",
    "\n",
    "# Divide the features and Output Results\n",
    "data_features = data[:, 0].reshape(len(data), 1)\n",
    "data_outputs = data[:, 1].reshape(len(data), 1)\n",
    "\n",
    "# Divide the test and train data\n",
    "train_features, test_features, train_outputs, test_outputs = model_selection.train_test_split( data_features, data_outputs, \n",
    "                                                                              test_size=0.3, random_state=42)"
   ]
  },
  {
   "cell_type": "code",
   "execution_count": 6,
   "metadata": {
    "collapsed": true
   },
   "outputs": [],
   "source": [
    "#for i in range(1000):\n",
    "#    print(str(random.uniform(int(data_features.min()),int(data_features.max())))+\",\"+\n",
    "#          str(random.uniform(int(data_outputs.min()),int(data_outputs.max()))))"
   ]
  },
  {
   "cell_type": "code",
   "execution_count": 7,
   "metadata": {},
   "outputs": [
    {
     "name": "stdout",
     "output_type": "stream",
     "text": [
      "Accuracy of prediction : 0.582842950775\n"
     ]
    }
   ],
   "source": [
    "# Train the model (function) \n",
    "model = linear_model.LinearRegression(normalize=True)\n",
    "model.fit(train_features, train_outputs)\n",
    "\n",
    "# Predict the values using the model \n",
    "predict_values = model.predict(test_features)\n",
    "\n",
    "# Accuracy of predicting the values\n",
    "accuracy = metrics.r2_score(test_outputs, predict_values)\n",
    "print(\"Accuracy of prediction :\", accuracy)"
   ]
  },
  {
   "cell_type": "code",
   "execution_count": 8,
   "metadata": {},
   "outputs": [
    {
     "data": {
      "text/plain": [
       "[<matplotlib.lines.Line2D at 0x1670c19f400>]"
      ]
     },
     "execution_count": 8,
     "metadata": {},
     "output_type": "execute_result"
    },
    {
     "data": {
      "image/png": "[encoded data removed]",
      "text/plain": [
       "<matplotlib.figure.Figure at 0x1670c19f518>"
      ]
     },
     "metadata": {},
     "output_type": "display_data"
    }
   ],
   "source": [
    "#Plotting the data\n",
    "\n",
    "plt.scatter(test_features, test_outputs, color='black')\n",
    "plt.plot(test_features, predict_values, color='blue', linewidth=2)"
   ]
  }
 ],
 "metadata": {
  "celltoolbar": "Raw Cell Format",
  "kernelspec": {
   "display_name": "Python 3",
   "language": "python",
   "name": "python3"
  },
  "language_info": {
   "codemirror_mode": {
    "name": "ipython",
    "version": 3
   },
   "file_extension": ".py",
   "mimetype": "text/x-python",
   "name": "python",
   "nbconvert_exporter": "python",
   "pygments_lexer": "ipython3",
   "version": "3.5.3"
  }
 },
 "nbformat": 4,
 "nbformat_minor": 2
}
