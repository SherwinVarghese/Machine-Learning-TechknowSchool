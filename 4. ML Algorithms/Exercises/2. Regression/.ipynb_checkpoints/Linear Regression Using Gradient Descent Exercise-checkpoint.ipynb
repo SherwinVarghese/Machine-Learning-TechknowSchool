{
 "cells": [
  {
   "cell_type": "code",
   "execution_count": 1,
   "metadata": {
    "collapsed": true
   },
   "outputs": [],
   "source": [
    "# Loading Libraries\n",
    "\n",
    "%matplotlib inline\n",
    "\n",
    "import numpy as np\n",
    "import random\n",
    "import matplotlib.pyplot as plt\n",
    "from sklearn.model_selection import train_test_split"
   ]
  },
  {
   "cell_type": "code",
   "execution_count": 4,
   "metadata": {
    "collapsed": true
   },
   "outputs": [],
   "source": [
    "def genData(numPoints, bias, variance):\n",
    "        x = np.zeros(shape=(numPoints, 2))\n",
    "        y = np.zeros(shape=numPoints)\n",
    "        # basically a straight line\n",
    "        for i in range(0, numPoints):\n",
    "            # bias feature\n",
    "            x[i][0] = 1\n",
    "            x[i][1] = i\n",
    "            # our target variable\n",
    "            y[i] = (i + bias) + random.uniform(0, 1) * variance\n",
    "        return x, y"
   ]
  },
  {
   "cell_type": "code",
   "execution_count": 8,
   "metadata": {},
   "outputs": [
    {
     "data": {
      "text/plain": [
       "100"
      ]
     },
     "execution_count": 8,
     "metadata": {},
     "output_type": "execute_result"
    }
   ],
   "source": [
    "x, y = genData(100, 25, 10)\n",
    "len(x)"
   ]
  },
  {
   "cell_type": "code",
   "execution_count": 6,
   "metadata": {
    "collapsed": true
   },
   "outputs": [],
   "source": [
    "x_train, x_test, y_train, y_test = train_test_split(x, y, test_size=0.3, random_state=42)"
   ]
  },
  {
   "cell_type": "code",
   "execution_count": 7,
   "metadata": {},
   "outputs": [
    {
     "data": {
      "text/plain": [
       "70"
      ]
     },
     "execution_count": 7,
     "metadata": {},
     "output_type": "execute_result"
    }
   ],
   "source": [
    "len(x_train)"
   ]
  },
  {
   "cell_type": "code",
   "execution_count": 9,
   "metadata": {
    "collapsed": true
   },
   "outputs": [],
   "source": [
    "class LinearRegressionWithoutNumpy:\n",
    "    \n",
    "    \n",
    "    #######################################################################################\n",
    "    #\n",
    "    # inputs      : x, y, theta0, theta1\n",
    "    # output      : Square mean error \n",
    "    # description : Calculate the square mean error using inputs. x is in vectorized form \n",
    "    #               mean square error formula = (1/(2*m)) * [ SIGMA  (y - h(x)) ]\n",
    "    #\n",
    "    #######################################################################################\n",
    "    def calMeanSquareError(self, x, y, theta0, theta1):\n",
    "        \n",
    "        error = 0\n",
    "        \n",
    "        ## Start writing your code after this block ##\n",
    "        \n",
    "        \n",
    "        return error\n",
    "    \n",
    "    \n",
    "    #######################################################################################\n",
    "    #\n",
    "    # inputs      : x, y, theta0, theta1, alpha\n",
    "    # output      : new theta0 and theta1 (After calculating the derivation)\n",
    "    # description : Calculate the step gradient. x is in vectorized form \n",
    "    #               \n",
    "    #\n",
    "    #######################################################################################\n",
    "    \n",
    "    def calStepGradient(self, x, y, theta0, theta1, alpha):\n",
    "        \n",
    "        numOfPoints = len(y) \n",
    "        new_theta0 = 0\n",
    "        new_theta1 = 0\n",
    "        \n",
    "        \n",
    "        return new_theta0, new_theta1\n",
    "    \n",
    "    def train(self, x, y, theta, alpha, numOfIterations):\n",
    "        \n",
    "        # training the model using gradient descent\n",
    "        theta0 = theta[0]\n",
    "        theta1 = theta[1]\n",
    "        \n",
    "        for i in range(numOfIterations):\n",
    "            theta0, theta1 = self.calStepGradient(x, y, theta0, theta1, alpha)\n",
    "            error = self.calMeanSquareError(x, y, theta0, theta1)\n",
    "            print(\"iteration {0} and error {1}\".format(i, error))\n",
    "        return theta0, theta1\n",
    "    \n",
    "    def testing(self, x, y, theta0, theta1):\n",
    "        \n",
    "        return self.calMeanSquareError(x, y, theta0, theta1)"
   ]
  },
  {
   "cell_type": "code",
   "execution_count": 11,
   "metadata": {
    "collapsed": true
   },
   "outputs": [],
   "source": [
    "## hyper parameters\n",
    "m, n = np.shape(x)\n",
    "numIterations= 15000\n",
    "alpha = 0.0005\n",
    "theta = np.ones(n)"
   ]
  },
  {
   "cell_type": "code",
   "execution_count": null,
   "metadata": {
    "collapsed": true
   },
   "outputs": [],
   "source": [
    "#Training the model \n",
    "\n",
    "LinearRegModel = LinearRegressionWithoutNumpy()\n",
    "theta0, theta1 = LinearRegModel.train(x_train, y_train, theta, alpha, numIterations)"
   ]
  },
  {
   "cell_type": "code",
   "execution_count": null,
   "metadata": {
    "collapsed": true
   },
   "outputs": [],
   "source": [
    "#Testing the model\n",
    "error = LinearRegModel.testing(x, y, theta0, theta1)\n",
    "print(\"testing error is {0}\".format(error))"
   ]
  },
  {
   "cell_type": "code",
   "execution_count": null,
   "metadata": {
    "collapsed": true
   },
   "outputs": [],
   "source": []
  }
 ],
 "metadata": {
  "kernelspec": {
   "display_name": "Python 3",
   "language": "python",
   "name": "python3"
  },
  "language_info": {
   "codemirror_mode": {
    "name": "ipython",
    "version": 3
   },
   "file_extension": ".py",
   "mimetype": "text/x-python",
   "name": "python",
   "nbconvert_exporter": "python",
   "pygments_lexer": "ipython3",
   "version": "3.5.3"
  }
 },
 "nbformat": 4,
 "nbformat_minor": 2
}
