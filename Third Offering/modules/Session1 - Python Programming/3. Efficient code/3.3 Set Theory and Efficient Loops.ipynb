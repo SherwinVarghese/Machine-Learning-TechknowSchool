{
  "cells": [
    {
      "cell_type": "markdown",
      "metadata": {
        "id": "8p1A0_vHSTv8",
        "colab_type": "text"
      },
      "source": [
        "## 3.3 Set Theory and Efficient Loops"
      ]
    },
    {
      "cell_type": "markdown",
      "metadata": {
        "id": "JPEhLsqUSclO",
        "colab_type": "text"
      },
      "source": [
        "+ Pokemon Overview\n",
        "\n",
        "<img src='pokemon1.png' width='750'>\n",
        "\n",
        "+ Pokeman Description\n",
        "\n",
        "<img src='pokemon2.png' width='750'>"
      ]
    },
    {
      "cell_type": "markdown",
      "metadata": {
        "id": "oo_gJaw9UVzi",
        "colab_type": "text"
      },
      "source": [
        "### 3.3.1 Set theory\n",
        "\n",
        "Branch of Mathematics applied to collections of objects i.e., sets \n",
        " \n",
        "Python has built-in set datatype with accompanying methods:  \n",
        "  + intersection() : all elements that are in both sets  \n",
        "  + difference() : all elements in one set but not the other  \n",
        "  + symmetric_difference() : all elements in exactly one set  \n",
        "  + union() : all elements that are in either set  \n",
        "\n",
        "Fast membership testing  \n",
        "  + Check if a value exists in a sequence or not  \n",
        "  + Using the in operator  "
      ]
    },
    {
      "cell_type": "markdown",
      "metadata": {
        "id": "cuv1Maucf1Xk",
        "colab_type": "text"
      },
      "source": [
        "1. Set method: Intersection"
      ]
    },
    {
      "cell_type": "markdown",
      "metadata": {
        "id": "A8giZ3-qdY8C",
        "colab_type": "text"
      },
      "source": [
        "<img src='pokemon3.png' width='750'>"
      ]
    },
    {
      "cell_type": "code",
      "metadata": {
        "id": "2_6LCH8IUyj8",
        "colab_type": "code",
        "colab": {}
      },
      "source": [
        "list_a = ['Bulbasaur', 'Charmander', 'Squirtle']\n",
        "list_b = ['Caterpie', 'Pidgey', 'Squirtle']"
      ],
      "execution_count": 102,
      "outputs": []
    },
    {
      "cell_type": "code",
      "metadata": {
        "id": "N4I5ZAsPdenX",
        "colab_type": "code",
        "colab": {
          "base_uri": "https://localhost:8080/",
          "height": 51
        },
        "outputId": "111246bf-7947-46d8-bd08-3ed6ed49cf1e",
        "tags": []
      },
      "source": [
        "%%timeit\n",
        "in_common = []\n",
        "for pokemon_a in list_a:\n",
        "  for pokemon_b in list_b:\n",
        "    if pokemon_a == pokemon_b:\n",
        "      in_common.append(pokemon_a)\n"
      ],
      "execution_count": 103,
      "outputs": [
        {
          "output_type": "stream",
          "name": "stdout",
          "text": "1.23 µs ± 118 ns per loop (mean ± std. dev. of 7 runs, 1000000 loops each)\n"
        }
      ]
    },
    {
      "cell_type": "code",
      "metadata": {
        "id": "k0CCJ9wNdsBa",
        "colab_type": "code",
        "colab": {
          "base_uri": "https://localhost:8080/",
          "height": 102
        },
        "outputId": "bcb32db5-ee4d-4e73-dcce-188ddd42f482",
        "tags": []
      },
      "source": [
        "# Efficiency gained using sets\n",
        "set_a = set(list_a)\n",
        "print(set_a)\n",
        "set_b = set(list_b)\n",
        "print(set_b)\n",
        "\n",
        "%timeit in_common = set_a.intersection(set_b)\n",
        "\n",
        "print(in_common)\n"
      ],
      "execution_count": 104,
      "outputs": [
        {
          "output_type": "stream",
          "name": "stdout",
          "text": "{'Charmander', 'Bulbasaur', 'Squirtle'}\n{'Squirtle', 'Caterpie', 'Pidgey'}\n451 ns ± 127 ns per loop (mean ± std. dev. of 7 runs, 1000000 loops each)\n['Squirtle']\n"
        }
      ]
    },
    {
      "cell_type": "markdown",
      "metadata": {
        "id": "Ub89J-xmhIxw",
        "colab_type": "text"
      },
      "source": [
        "2.0 Set method: difference"
      ]
    },
    {
      "cell_type": "markdown",
      "metadata": {
        "id": "ERd4KFlztA_c",
        "colab_type": "text"
      },
      "source": [
        "<img src='pokemon4.png' width='750'>"
      ]
    },
    {
      "cell_type": "code",
      "metadata": {
        "id": "tYAq8WVHhdoY",
        "colab_type": "code",
        "colab": {}
      },
      "source": [
        "set_a = {'Bulbasaur', 'Charmander', 'Squirtle'}\n",
        "set_b = {'Caterpie', 'Pidgey', 'Squirtle'}\n",
        "\n",
        "set_a.difference(set_b)"
      ],
      "execution_count": 105,
      "outputs": [
        {
          "output_type": "execute_result",
          "data": {
            "text/plain": "{'Bulbasaur', 'Charmander'}"
          },
          "metadata": {},
          "execution_count": 105
        }
      ]
    },
    {
      "cell_type": "markdown",
      "metadata": {
        "id": "KZ83SXfgtN3o",
        "colab_type": "text"
      },
      "source": [
        "3.0 Set method: symmetric difference"
      ]
    },
    {
      "cell_type": "markdown",
      "metadata": {
        "id": "5pazrjuttYL_",
        "colab_type": "text"
      },
      "source": [
        "<img src='pokemon5.png' width='750'>"
      ]
    },
    {
      "cell_type": "code",
      "metadata": {
        "id": "gzMX9Mx3tQmF",
        "colab_type": "code",
        "colab": {}
      },
      "source": [
        "set_a = {'Bulbasaur', 'Charmander', 'Squirtle'}\n",
        "set_b = {'Caterpie', 'Pidgey', 'Squirtle'}\n",
        "\n",
        "set_a.symmetric_difference(set_b)"
      ],
      "execution_count": 106,
      "outputs": [
        {
          "output_type": "execute_result",
          "data": {
            "text/plain": "{'Bulbasaur', 'Caterpie', 'Charmander', 'Pidgey'}"
          },
          "metadata": {},
          "execution_count": 106
        }
      ]
    },
    {
      "cell_type": "markdown",
      "metadata": {
        "id": "yeicTf50tdyW",
        "colab_type": "text"
      },
      "source": [
        "4.0 Set method: union"
      ]
    },
    {
      "cell_type": "markdown",
      "metadata": {
        "id": "aT-I3Wj6tjRi",
        "colab_type": "text"
      },
      "source": [
        "<img src='pokemon6.png' width='750'>"
      ]
    },
    {
      "cell_type": "code",
      "metadata": {
        "id": "s0Et5iS5tnou",
        "colab_type": "code",
        "colab": {}
      },
      "source": [
        "set_a = {'Bulbasaur', 'Charmander', 'Squirtle'}\n",
        "set_b = {'Caterpie', 'Pidgey', 'Squirtle'}\n",
        "\n",
        "set_a.union(set_b)"
      ],
      "execution_count": 107,
      "outputs": [
        {
          "output_type": "execute_result",
          "data": {
            "text/plain": "{'Bulbasaur', 'Caterpie', 'Charmander', 'Pidgey', 'Squirtle'}"
          },
          "metadata": {},
          "execution_count": 107
        }
      ]
    },
    {
      "cell_type": "markdown",
      "metadata": {
        "id": "JnVQRLFJoQhY",
        "colab_type": "text"
      },
      "source": [
        "5.0 Set membership"
      ]
    },
    {
      "cell_type": "markdown",
      "metadata": {
        "id": "nRsCbkBJt1Uv",
        "colab_type": "text"
      },
      "source": [
        "<img src='pokemon7.png' width='750'>"
      ]
    },
    {
      "cell_type": "code",
      "metadata": {
        "id": "tLWYct3QoVvb",
        "colab_type": "code",
        "colab": {}
      },
      "source": [
        "from modules import get_pokemon_names\n",
        "#720 names in the list\n",
        "pokemon_list = get_pokemon_names()\n",
        "pokemon_set = set(pokemon_list)\n",
        "pokemon_tuple = tuple(pokemon_list)"
      ],
      "execution_count": 108,
      "outputs": []
    },
    {
      "cell_type": "code",
      "metadata": {
        "id": "1KaHvcMootrH",
        "colab_type": "code",
        "colab": {},
        "tags": []
      },
      "source": [
        "# membership test: set\n",
        "%timeit 'Zubat' in pokemon_set"
      ],
      "execution_count": 109,
      "outputs": [
        {
          "output_type": "stream",
          "name": "stdout",
          "text": "95.3 ns ± 15.1 ns per loop (mean ± std. dev. of 7 runs, 10000000 loops each)\n"
        }
      ]
    },
    {
      "cell_type": "code",
      "metadata": {
        "id": "NDzEZZYnowtR",
        "colab_type": "code",
        "colab": {},
        "tags": []
      },
      "source": [
        "# membership test: tuple\n",
        "%timeit 'Zubat' in pokemon_tuple"
      ],
      "execution_count": 110,
      "outputs": [
        {
          "output_type": "stream",
          "name": "stdout",
          "text": "18.3 µs ± 3.21 µs per loop (mean ± std. dev. of 7 runs, 100000 loops each)\n"
        }
      ]
    },
    {
      "cell_type": "code",
      "metadata": {
        "id": "yZLtsDUYoc3R",
        "colab_type": "code",
        "colab": {},
        "tags": []
      },
      "source": [
        "# membership test: list\n",
        "%timeit 'Zubat' in pokemon_list"
      ],
      "execution_count": 111,
      "outputs": [
        {
          "output_type": "stream",
          "name": "stdout",
          "text": "16 µs ± 1.28 µs per loop (mean ± std. dev. of 7 runs, 10000 loops each)\n"
        }
      ]
    },
    {
      "cell_type": "markdown",
      "metadata": {
        "id": "ZgKfTTRRpGtb",
        "colab_type": "text"
      },
      "source": [
        "### 3.3.2 Efficient loops\n",
        "\n",
        "+ Moving calculations above a loop"
      ]
    },
    {
      "cell_type": "code",
      "execution_count": 112,
      "metadata": {
        "tags": []
      },
      "outputs": [
        {
          "output_type": "stream",
          "name": "stdout",
          "text": "139 µs ± 20.7 µs per loop (mean ± std. dev. of 7 runs, 10000 loops each)\n"
        }
      ],
      "source": [
        "%%timeit\n",
        "import numpy as np\n",
        "names = ['Absol', 'Aron', 'Jynx', 'Natu', 'Onix']\n",
        "attacks = np.array([130, 70, 50, 50, 45])\n",
        "result = []\n",
        "for pokemon,attack in zip(names, attacks):\n",
        "    total_attack_avg = attacks.mean()\n",
        "    if attack > total_attack_avg:\n",
        "        result.append(pokemon)"
      ]
    },
    {
      "cell_type": "code",
      "execution_count": 113,
      "metadata": {
        "tags": []
      },
      "outputs": [
        {
          "output_type": "stream",
          "name": "stdout",
          "text": "48.5 µs ± 5.58 µs per loop (mean ± std. dev. of 7 runs, 10000 loops each)\n"
        }
      ],
      "source": [
        "%%timeit\n",
        "result = []\n",
        "# Calculate total average once (outside the loop)\n",
        "total_attack_avg = attacks.mean()\n",
        "for pokemon,attack in zip(names, attacks):\n",
        "    if attack > total_attack_avg:\n",
        "        result.append(pokemon)"
      ]
    }
  ],
  "metadata": {
    "colab": {
      "name": "3.3 Set Theory and Efficient Loops.ipynb",
      "provenance": [],
      "collapsed_sections": []
    },
    "kernelspec": {
      "name": "python3",
      "display_name": "Python 3"
    }
  },
  "nbformat": 4,
  "nbformat_minor": 0
}