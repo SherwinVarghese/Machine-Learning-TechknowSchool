{
  "cells": [
    {
      "cell_type": "markdown",
      "metadata": {
        "id": "l8yaN8cDje_b",
        "colab_type": "text"
      },
      "source": [
        "## 3.1 Building with built-ins\n",
        "\n",
        "### 3.1.1 Built-in function: range()\n",
        "\n",
        "+ Immutable sequence of numbers"
      ]
    },
    {
      "cell_type": "code",
      "metadata": {
        "id": "6UrR2vObj0D4",
        "colab_type": "code",
        "colab": {
          "base_uri": "https://localhost:8080/",
          "height": 34
        },
        "outputId": "f3149a3e-2e64-4c2a-f05c-e0d08597c657",
        "tags": []
      },
      "source": [
        "# range(start,stop,step)\n",
        "\n",
        "even_nums = range(2, 11, 2)\n",
        "even_nums_list = list(even_nums)\n",
        "print(even_nums_list)"
      ],
      "execution_count": 1,
      "outputs": [
        {
          "output_type": "stream",
          "name": "stdout",
          "text": "[2, 4, 6, 8, 10]\n"
        }
      ]
    },
    {
      "cell_type": "markdown",
      "metadata": {
        "id": "O2v78Pi1kJ2r",
        "colab_type": "text"
      },
      "source": [
        "### 3.1.2 Built-in function: enumerate()\n",
        "\n",
        "+ Creates an indexed list of objects"
      ]
    },
    {
      "cell_type": "code",
      "metadata": {
        "id": "HwXJEsiIkPA5",
        "colab_type": "code",
        "colab": {
          "base_uri": "https://localhost:8080/",
          "height": 34
        },
        "outputId": "c812b4b1-f2e3-44bf-ea65-a95a4b633be0",
        "tags": []
      },
      "source": [
        "letters = ['a', 'b', 'c', 'd' ]\n",
        "\n",
        "indexed_letters = enumerate(letters)\n",
        "indexed_letters_list = list(indexed_letters)\n",
        "print(indexed_letters_list)"
      ],
      "execution_count": 2,
      "outputs": [
        {
          "output_type": "stream",
          "name": "stdout",
          "text": "[(0, 'a'), (1, 'b'), (2, 'c'), (3, 'd')]\n"
        }
      ]
    },
    {
      "cell_type": "code",
      "metadata": {
        "id": "WX5uvkqymfYr",
        "colab_type": "code",
        "colab": {
          "base_uri": "https://localhost:8080/",
          "height": 34
        },
        "outputId": "2a718db7-cdc0-401c-8f02-dddd69b64495",
        "tags": []
      },
      "source": [
        "# Can specify a start value\n",
        "indexed_letters2 = enumerate(letters, start=5)\n",
        "indexed_letters2_list = list(indexed_letters2)\n",
        "print(indexed_letters2_list)"
      ],
      "execution_count": 3,
      "outputs": [
        {
          "output_type": "stream",
          "name": "stdout",
          "text": "[(5, 'a'), (6, 'b'), (7, 'c'), (8, 'd')]\n"
        }
      ]
    },
    {
      "cell_type": "markdown",
      "metadata": {
        "id": "0hGiJM4Rkqby",
        "colab_type": "text"
      },
      "source": [
        "### 3.1.3 Built-in function: map()\n",
        "\n",
        "+ Applies a function over an object"
      ]
    },
    {
      "cell_type": "code",
      "metadata": {
        "id": "fXMVV4DMmTdj",
        "colab_type": "code",
        "colab": {
          "base_uri": "https://localhost:8080/",
          "height": 34
        },
        "outputId": "e604be2a-9254-4909-e112-b392944021fc",
        "tags": []
      },
      "source": [
        "nums = [1.5, 2.3, 3.4, 4.6, 5.0]\n",
        "rnd_nums = map(round, nums)\n",
        "print(list(rnd_nums))"
      ],
      "execution_count": 4,
      "outputs": [
        {
          "output_type": "stream",
          "name": "stdout",
          "text": "[2, 2, 3, 5, 5]\n"
        }
      ]
    },
    {
      "cell_type": "code",
      "metadata": {
        "id": "CGYg1QC5mix6",
        "colab_type": "code",
        "colab": {
          "base_uri": "https://localhost:8080/",
          "height": 34
        },
        "outputId": "3332c978-c4d5-4ca5-c4de-1af9ac8daf34",
        "tags": []
      },
      "source": [
        "# Using anonymous function\n",
        "nums = [1, 2, 3, 4, 5]\n",
        "sqrd_nums = map(lambda x: x ** 2, nums)\n",
        "print(list(sqrd_nums))"
      ],
      "execution_count": 5,
      "outputs": [
        {
          "output_type": "stream",
          "name": "stdout",
          "text": "[1, 4, 9, 16, 25]\n"
        }
      ]
    }
  ],
  "metadata": {
    "colab": {
      "name": "Built-in functions.ipynb",
      "provenance": []
    },
    "kernelspec": {
      "name": "python3",
      "display_name": "Python 3"
    }
  },
  "nbformat": 4,
  "nbformat_minor": 0
}