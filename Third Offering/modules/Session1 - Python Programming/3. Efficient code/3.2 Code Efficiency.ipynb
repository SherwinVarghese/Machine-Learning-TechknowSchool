{
  "cells": [
    {
      "cell_type": "markdown",
      "metadata": {
        "id": "QRXcheJYXPHQ",
        "colab_type": "text"
      },
      "source": [
        "## 3.2 Code Efficiency\n",
        "\n",
        "+ Writing *efficient* Python code:\n",
        "\n",
        "    + Minimal completion time \n",
        "    + Minimal resource consumption\n",
        "    \n",
        "<img src = 'efficientcode.png' width = '500'>\n",
        "\n",
        "The [Zen of Python](https://www.python.org/dev/peps/pep-0020/https://www.python.org/dev/peps/pep-0020/) by Tim Peters\n",
        "\n",
        "> Beautiful is better than ugly.  \n",
        "Explicit is better than implicit.  \n",
        "Simple is better than complex.  \n",
        "Complex is better than complicated.  \n",
        "Flat is better than nested.  \n",
        "Sparse is better than dense.  \n",
        "Readability counts.  \n",
        "Special cases aren't special enough to break the rules.  \n",
        "Although practicality beats purity.  \n",
        "Errors should never pass silently.  \n",
        "Unless explicitly silenced.  \n",
        "In the face of ambiguity, refuse the temptation to guess.  \n",
        "\n",
        "\n"
      ]
    },
    {
      "cell_type": "markdown",
      "metadata": {
        "id": "z7KhwPsFYIxB",
        "colab_type": "text"
      },
      "source": [
        "### *3.2*.1 Timing our Code: ``%timeit`` and ``%%timeit``"
      ]
    },
    {
      "cell_type": "code",
      "metadata": {
        "id": "voD8q0DBXPHR",
        "colab_type": "code",
        "colab": {
          "base_uri": "https://localhost:8080/",
          "height": 68
        },
        "outputId": "a2ebf8a4-f54d-4e0f-f71f-1ca7fd6b682b"
      },
      "source": [
        "import numpy as np\n",
        "from modules import convert_units\n",
        "heroes = ['Batman', 'Superman', 'Wonder Woman']\n",
        "hts = np.array([188.0, 191.0, 183.0])\n",
        "wts = np.array([ 95.0, 101.0, 74.0])\n",
        "\n",
        "convert_units(heroes, hts, wts)"
      ],
      "execution_count": 11,
      "outputs": [
        {
          "output_type": "execute_result",
          "data": {
            "text/plain": "{'Batman': (74.01559999999999, 209.4389),\n 'Superman': (75.19669999999999, 222.66661999999997),\n 'Wonder Woman': (72.0471, 163.14188)}"
          },
          "metadata": {},
          "execution_count": 11
        }
      ]
    },
    {
      "cell_type": "code",
      "metadata": {
        "tags": [],
        "id": "5WvbG1qEXPHW",
        "colab_type": "code",
        "colab": {
          "base_uri": "https://localhost:8080/",
          "height": 51
        },
        "outputId": "3876bee0-d356-47bf-8ad9-c217cd16184f"
      },
      "source": [
        "%timeit new_hts = [ht * 0.39370 for ht in hts]"
      ],
      "execution_count": 12,
      "outputs": [
        {
          "output_type": "stream",
          "name": "stdout",
          "text": "4.47 µs ± 1.77 µs per loop (mean ± std. dev. of 7 runs, 100000 loops each)\n"
        }
      ]
    },
    {
      "cell_type": "code",
      "metadata": {
        "id": "BXrbRbO7XPHZ",
        "colab_type": "code",
        "colab": {
          "base_uri": "https://localhost:8080/",
          "height": 51
        },
        "outputId": "ba96e8e3-3ff7-48a2-d344-e36afc209d73",
        "tags": []
      },
      "source": [
        "%%timeit\n",
        "hero_data = {}\n",
        "for i,hero in enumerate(heroes):\n",
        "  hero_data[hero] = (hts[i], wts[i])"
      ],
      "execution_count": 13,
      "outputs": [
        {
          "output_type": "stream",
          "name": "stdout",
          "text": "2.65 µs ± 1.04 µs per loop (mean ± std. dev. of 7 runs, 100000 loops each)\n"
        }
      ]
    },
    {
      "cell_type": "markdown",
      "metadata": {
        "id": "r-jjI9KEYXTM",
        "colab_type": "text"
      },
      "source": [
        "### 3.2.2 Code Profiling: line-by-line with ``%lprun``"
      ]
    },
    {
      "cell_type": "markdown",
      "metadata": {
        "colab_type": "text",
        "id": "1eDOAW67gatN"
      },
      "source": [
        "Use ``!pip install line_profiler`` and ``%load_ext line_profiler\n",
        "`` to install the package for the first time\n",
        "\n"
      ]
    },
    {
      "cell_type": "code",
      "execution_count": 14,
      "metadata": {
        "tags": []
      },
      "outputs": [
        {
          "output_type": "stream",
          "name": "stdout",
          "text": "The line_profiler extension is already loaded. To reload it, use:\n  %reload_ext line_profiler\n"
        }
      ],
      "source": [
        "%load_ext line_profiler"
      ]
    },
    {
      "cell_type": "code",
      "metadata": {
        "id": "HoJbDoqkYn44",
        "colab_type": "code",
        "colab": {},
        "tags": []
      },
      "source": [
        "%lprun -f convert_units convert_units(heroes, hts, wts)"
      ],
      "execution_count": 15,
      "outputs": [
        {
          "output_type": "stream",
          "text": "Timer unit: 1e-07 s\n\nTotal time: 5.96e-05 s\nFile: c:\\Users\\i332835\\Documents\\GitHub\\Machine-Learning\\Third Offering\\modules\\Session1 - Python Programming\\modules.py\nFunction: convert_units at line 1\n\nLine #      Hits         Time  Per Hit   % Time  Line Contents\n==============================================================\n     1                                           def convert_units(heroes, heights, weights):\n     2         1        253.0    253.0     42.4      new_hts = [ht * 0.39370 for ht in heights]\n     3         1        114.0    114.0     19.1      new_wts = [wt * 2.20462 for wt in weights]\n     4         1         21.0     21.0      3.5      hero_data = {}\n     5         4        106.0     26.5     17.8      for i,hero in enumerate(heroes):\n     6         3         82.0     27.3     13.8          hero_data[hero] = (new_hts[i], new_wts[i])\n     7         1         20.0     20.0      3.4      return hero_data"
        }
      ]
    },
    {
      "cell_type": "markdown",
      "metadata": {
        "id": "AGoQLE0MYs2g",
        "colab_type": "text"
      },
      "source": [
        "### 3.2.3 Code Profiling: memory with ``%mprun``"
      ]
    },
    {
      "cell_type": "markdown",
      "metadata": {
        "id": "A-8iwbRigkUA",
        "colab_type": "text"
      },
      "source": [
        "Use ``!pip install memory_profiler`` and ``%load_ext memory_profiler`` to install the package for the first time"
      ]
    },
    {
      "cell_type": "code",
      "execution_count": 9,
      "metadata": {},
      "outputs": [],
      "source": [
        "%load_ext memory_profiler"
      ]
    },
    {
      "cell_type": "code",
      "metadata": {
        "id": "CFA2fgiuafnv",
        "colab_type": "code",
        "colab": {
          "base_uri": "https://localhost:8080/",
          "height": 68
        },
        "outputId": "1c711e96-cdb6-49be-e827-138a0a231c79",
        "tags": []
      },
      "source": [
        "%mprun -f convert_units convert_units(heroes, hts, wts)"
      ],
      "execution_count": 10,
      "outputs": [
        {
          "output_type": "stream",
          "name": "stdout",
          "text": "\n"
        },
        {
          "output_type": "stream",
          "text": "Filename: c:\\Users\\i332835\\Documents\\GitHub\\Machine-Learning\\Third Offering\\modules\\Session1 - Python Programming\\modules.py\n\nLine #    Mem usage    Increment   Line Contents\n================================================\n     1     88.1 MiB     88.1 MiB   def convert_units(heroes, heights, weights):\n     2     88.1 MiB      0.0 MiB       new_hts = [ht * 0.39370 for ht in heights]\n     3     88.1 MiB      0.0 MiB       new_wts = [wt * 2.20462 for wt in weights]\n     4     88.1 MiB      0.0 MiB       hero_data = {}\n     5     88.1 MiB      0.0 MiB       for i,hero in enumerate(heroes):\n     6     88.1 MiB      0.0 MiB           hero_data[hero] = (new_hts[i], new_wts[i])\n     7     88.1 MiB      0.0 MiB       return hero_data"
        }
      ]
    }
  ],
  "metadata": {
    "language_info": {
      "name": "python",
      "codemirror_mode": {
        "name": "ipython",
        "version": 3
      },
      "version": "3.7.4-final"
    },
    "orig_nbformat": 2,
    "file_extension": ".py",
    "mimetype": "text/x-python",
    "name": "python",
    "npconvert_exporter": "python",
    "pygments_lexer": "ipython3",
    "version": 3,
    "kernelspec": {
      "name": "python3",
      "display_name": "Python 3"
    },
    "colab": {
      "name": "3.2 Code Efficiency.ipynb",
      "provenance": [],
      "collapsed_sections": []
    }
  },
  "nbformat": 4,
  "nbformat_minor": 0
}