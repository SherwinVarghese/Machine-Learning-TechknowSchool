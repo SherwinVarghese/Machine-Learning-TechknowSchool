{
 "cells": [
  {
   "cell_type": "markdown",
   "metadata": {
    "colab_type": "text",
    "id": "n0f56fbpJ1Up"
   },
   "source": [
    "# 1.5 Operators"
   ]
  },
  {
   "cell_type": "markdown",
   "metadata": {
    "colab_type": "text",
    "id": "Oz2PAMwsJ1Uq"
   },
   "source": [
    "Operators are special symbols in Python that carry out arithmetic or logical computation."
   ]
  },
  {
   "cell_type": "markdown",
   "metadata": {
    "colab_type": "text",
    "id": "PJMx43sfJ1Ur"
   },
   "source": [
    "## Operator Types"
   ]
  },
  {
   "cell_type": "markdown",
   "metadata": {
    "colab_type": "text",
    "id": "pcO7CWqyJ1Ur"
   },
   "source": [
    "* Arithmetic \n",
    "    \n",
    "* Relational \n",
    "\n",
    "* Logical \n",
    "\n",
    "* Bitwise \n",
    "\n",
    "* Assignment \n",
    "\n",
    "* Identity\n",
    "\n",
    "* Membership"
   ]
  },
  {
   "cell_type": "markdown",
   "metadata": {
    "colab_type": "text",
    "id": "MRF8HnAtJ1Us"
   },
   "source": [
    "## 1.5.1 Arithmetic Operators"
   ]
  },
  {
   "cell_type": "markdown",
   "metadata": {
    "colab_type": "text",
    "id": "hG3LS43XJ1Uu"
   },
   "source": [
    "    + , -, *, /, %, //, **  are arithmetic operators"
   ]
  },
  {
   "cell_type": "code",
   "execution_count": 4,
   "metadata": {
    "colab": {},
    "colab_type": "code",
    "id": "ZmcDhVfNJ1Uv",
    "outputId": "cc552637-0b4b-4f87-a065-7e4b3a064cbd"
   },
   "outputs": [
    {
     "name": "stdout",
     "output_type": "stream",
     "text": [
      "Addition :  30\n",
      "Subtraction :  -10\n",
      "Multiplication :  200\n",
      "Division :  0.5\n",
      "Modulo division :  10\n",
      "Floor Division :  0\n",
      "Exponential :  100000000000000000000\n"
     ]
    }
   ],
   "source": [
    "x, y = 10, 20\n",
    "\n",
    "#addition\n",
    "print(\"Addition : \", x + y)\n",
    "\n",
    "#subtraction(-)\n",
    "print(\"Subtraction : \", x - y)\n",
    "\n",
    "#multiplication(*)\n",
    "print(\"Multiplication : \", x * y)\n",
    "\n",
    "#division(/)\n",
    "print(\"Division : \", x / y)\n",
    "\n",
    "#modulo division (%)\n",
    "print(\"Modulo division : \", x % y)\n",
    "\n",
    "#Floor Division (//)\n",
    "print(\"Floor Division : \", x // y)\n",
    "\n",
    "#Exponent (**)\n",
    "print(\"Exponential : \", x ** y)"
   ]
  },
  {
   "cell_type": "markdown",
   "metadata": {
    "colab_type": "text",
    "id": "gQTQvttOJ1U2"
   },
   "source": [
    "## 1.5.2 Comparision Operators"
   ]
  },
  {
   "cell_type": "markdown",
   "metadata": {
    "colab_type": "text",
    "id": "0mb9-UP7J1U4"
   },
   "source": [
    "    >, <, ==, !=, >=, <= are comparision operators"
   ]
  },
  {
   "cell_type": "code",
   "execution_count": 5,
   "metadata": {
    "colab": {},
    "colab_type": "code",
    "id": "KkSSvzyRJ1U4",
    "outputId": "c202036f-7c99-4a33-add0-cd248de3feb9"
   },
   "outputs": [
    {
     "name": "stdout",
     "output_type": "stream",
     "text": [
      "a less than b :  True\n",
      "a greater than b :  False\n",
      "a is equal to b :  False\n",
      "a is not equal to b :  True\n",
      "a is less than or equal to b :  True\n",
      "a is greater than or equal to b :  False\n"
     ]
    }
   ],
   "source": [
    "a, b = 10, 20         \n",
    "\n",
    "print(\"a less than b : \", a < b)  #check a is less than b\n",
    "\n",
    "#check a is greater than b\n",
    "print(\"a greater than b : \", a > b)\n",
    "\n",
    "#check a is equal to b\n",
    "print(\"a is equal to b : \", a == b)\n",
    "\n",
    "#check a is not equal to b (!=)\n",
    "print(\"a is not equal to b : \", a != b)\n",
    "\n",
    "#check a greater than or equal to b\n",
    "print(\"a is less than or equal to b : \", a <= b)\n",
    "\n",
    "#check a less than or equal to b\n",
    "print(\"a is greater than or equal to b : \", a >= b)\n"
   ]
  },
  {
   "cell_type": "markdown",
   "metadata": {
    "colab_type": "text",
    "id": "ubQ-MFMOJ1U8"
   },
   "source": [
    "## 1.5.3 Logical Operators"
   ]
  },
  {
   "cell_type": "markdown",
   "metadata": {
    "colab_type": "text",
    "id": "pC9ZdbGzJ1U9"
   },
   "source": [
    "Logical operators are  **and, or, not** operators."
   ]
  },
  {
   "cell_type": "code",
   "execution_count": 6,
   "metadata": {
    "colab": {},
    "colab_type": "code",
    "id": "XqeWH3mKJ1U9",
    "outputId": "f10b2eb6-5946-4857-9102-1e3456262d56"
   },
   "outputs": [
    {
     "name": "stdout",
     "output_type": "stream",
     "text": [
      "Logic AND operation :  False\n",
      "Logic OR operation :  True\n",
      "Logic NOT operation :  False\n"
     ]
    }
   ],
   "source": [
    "a, b = True, False\n",
    "\n",
    "#print a and b\n",
    "print(\"Logic AND operation : \", a and b)\n",
    "\n",
    "#print a or b\n",
    "print(\"Logic OR operation : \", a or b)\n",
    "\n",
    "#print not a\n",
    "print(\"Logic NOT operation : \", not a)\n"
   ]
  },
  {
   "cell_type": "markdown",
   "metadata": {
    "colab_type": "text",
    "id": "2YOUKscnJ1VA"
   },
   "source": [
    "## 1.5.4 Bitwise operators"
   ]
  },
  {
   "cell_type": "markdown",
   "metadata": {
    "colab_type": "text",
    "id": "9yURGzU6J1VB"
   },
   "source": [
    "    &,  |,  ~,  ^,  >>,  << are Bitwise operators"
   ]
  },
  {
   "cell_type": "code",
   "execution_count": 7,
   "metadata": {
    "colab": {},
    "colab_type": "code",
    "id": "wEc-fSy5J1VC",
    "outputId": "eb672c25-a25c-4aa1-b1c5-46c9acf3e5c1"
   },
   "outputs": [
    {
     "name": "stdout",
     "output_type": "stream",
     "text": [
      "Bitwise AND operation :  0\n",
      "Bitwise OR operation :  14\n",
      "Bitwise NOT operation :  -11\n",
      "Bitwise XOR operation :  14\n",
      "Bitwise rightshift operation :  5\n",
      "Bitwise leftshift operation :  20\n"
     ]
    }
   ],
   "source": [
    "a, b = 10, 4\n",
    "\n",
    "#print a and b\n",
    "print(\"Bitwise AND operation : \", a & b)\n",
    "\n",
    "#print a or b\n",
    "print(\"Bitwise OR operation : \", a | b)\n",
    "\n",
    "#print not a\n",
    "print(\"Bitwise NOT operation : \", ~a)\n",
    "\n",
    "#Bitwise XOR\n",
    "print(\"Bitwise XOR operation : \", a^b)\n",
    "\n",
    "#Bitwise rightshift\n",
    "print(\"Bitwise rightshift operation : \", a>>1)\n",
    "\n",
    "#Bitwise Leftshift\n",
    "print(\"Bitwise leftshift operation : \", a<<1)\n"
   ]
  },
  {
   "cell_type": "markdown",
   "metadata": {
    "colab_type": "text",
    "id": "xUzTk2gOJ1VG"
   },
   "source": [
    "## 1.5.5 Assignment operators"
   ]
  },
  {
   "cell_type": "markdown",
   "metadata": {
    "colab_type": "text",
    "id": "_XjYYPYJJ1VI"
   },
   "source": [
    "    =,  +=,  -=,  *=,  /=,  %=,  //=,  **=, &=,  |=,  ^=,  >>=,  <<= are Assignment operators"
   ]
  },
  {
   "cell_type": "code",
   "execution_count": 10,
   "metadata": {
    "colab": {},
    "colab_type": "code",
    "id": "-m4t4bblJ1VJ",
    "outputId": "21738ba1-87aa-470b-9ea2-e44ddf839583"
   },
   "outputs": [
    {
     "name": "stdout",
     "output_type": "stream",
     "text": [
      "Addition and assignment :  20\n",
      "Subtraction and assignment :  18\n",
      "Multiplication and assignment :  36\n",
      "Division and assignment :  18.0\n",
      "Modulus and assignment :  0.0\n",
      "Floor division and assignment :  10\n",
      "Exponent and asignment :  100\n"
     ]
    }
   ],
   "source": [
    "a = 10\n",
    "\n",
    "a += 10         #add AND\n",
    "print(\"Addition and assignment : \", a)\n",
    "\n",
    "#subtract AND (-=)\n",
    "a -= 2 \n",
    "print(\"Subtraction and assignment : \",a)\n",
    "\n",
    "#Multiply AND (*=)\n",
    "a *= 2 \n",
    "print(\"Multiplication and assignment : \", a)\n",
    "\n",
    "#Divide AND (/=)\n",
    "a /= 2 \n",
    "print(\"Division and assignment : \",a)\n",
    "\n",
    "#Modulus AND (%=)\n",
    "a %= 2 \n",
    "print(\"Modulus and assignment : \",a)\n",
    "\n",
    "a = 20\n",
    "#Floor Division (//=)\n",
    "a //= 2 \n",
    "print(\"Floor division and assignment : \",a)\n",
    "\n",
    "#Exponent AND (**=)\n",
    "a **= 2 \n",
    "print(\"Exponent and asignment : \",a)"
   ]
  },
  {
   "cell_type": "markdown",
   "metadata": {
    "colab_type": "text",
    "id": "KKAoV_NrJ1VO"
   },
   "source": [
    "## 1.5.6 Identity Operators"
   ]
  },
  {
   "cell_type": "markdown",
   "metadata": {
    "colab_type": "text",
    "id": "c5A9F8QuJ1VO"
   },
   "source": [
    "**is and is not** are the identity operator and are used to check if two variables are located on the same part of the memory."
   ]
  },
  {
   "cell_type": "code",
   "execution_count": 15,
   "metadata": {
    "colab": {},
    "colab_type": "code",
    "id": "1yxuBO4_J1VP",
    "outputId": "82049aaf-2870-49cd-d684-be94990c32f4"
   },
   "outputs": [
    {
     "name": "stdout",
     "output_type": "stream",
     "text": [
      "140733871920064 140733871920064\n",
      "a and b points to same memory location :  True\n",
      "a and b points to different memory location :  False\n"
     ]
    }
   ],
   "source": [
    "a = 5\n",
    "b = 5\n",
    "\n",
    "print(id(a), id(b))\n",
    "\n",
    "print(\"a and b points to same memory location : \", a is b)    #5 is object created once\n",
    "\n",
    "#check is not\n",
    "print(\"a and b points to different memory location : \", a is not b)"
   ]
  },
  {
   "cell_type": "markdown",
   "metadata": {},
   "source": [
    "This is not vaid in the case of lists, which we will see in the next sessions"
   ]
  },
  {
   "cell_type": "code",
   "execution_count": 20,
   "metadata": {
    "colab": {},
    "colab_type": "code",
    "id": "eP7UDh1RJ1VS",
    "outputId": "9f6512fe-e145-44cf-fe0a-960eb9a5b764"
   },
   "outputs": [
    {
     "name": "stdout",
     "output_type": "stream",
     "text": [
      "2427154178952 2427153167560\n",
      "Both the list have same memory locations :  False\n"
     ]
    }
   ],
   "source": [
    "list1 = [1, 2, 3]\n",
    "list2 = [1, 2, 3]\n",
    "\n",
    "print(id(list1), id(list2))\n",
    "\n",
    "print(\"Both the list have same memory locations : \", list1 is list2)"
   ]
  },
  {
   "cell_type": "markdown",
   "metadata": {
    "colab_type": "text",
    "id": "1mIlaX0SJ1VZ"
   },
   "source": [
    "## 1.5.7 MemberShip Operators"
   ]
  },
  {
   "cell_type": "markdown",
   "metadata": {
    "colab_type": "text",
    "id": "Y5UVZSNkJ1Va"
   },
   "source": [
    "Membership is used to test whether a value or variable is found in a (string, list, tuple, set and dictionary).\n",
    "\n",
    "**in** is the memborship operator"
   ]
  },
  {
   "cell_type": "code",
   "execution_count": 23,
   "metadata": {
    "colab": {},
    "colab_type": "code",
    "id": "qqVL62fIJ1Ve",
    "outputId": "4cf92b9c-1800-462c-f8c8-bbdfbc20d338"
   },
   "outputs": [
    {
     "name": "stdout",
     "output_type": "stream",
     "text": [
      "1 is part of dict :  True\n"
     ]
    }
   ],
   "source": [
    "dict1 = {1: \"a\", 2: \"b\"} # we will see in the next sessions\n",
    "print(\"1 is part of dict : \", 1 in dict1)"
   ]
  }
 ],
 "metadata": {
  "colab": {
   "include_colab_link": true,
   "name": "1.6.ipynb",
   "provenance": []
  },
  "kernelspec": {
   "display_name": "Python 3",
   "language": "python",
   "name": "python3"
  },
  "language_info": {
   "codemirror_mode": {
    "name": "ipython",
    "version": 3
   },
   "file_extension": ".py",
   "mimetype": "text/x-python",
   "name": "python",
   "nbconvert_exporter": "python",
   "pygments_lexer": "ipython3",
   "version": "3.7.3"
  }
 },
 "nbformat": 4,
 "nbformat_minor": 1
}
