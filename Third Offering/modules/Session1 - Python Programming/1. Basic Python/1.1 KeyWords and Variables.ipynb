{
 "cells": [
  {
   "cell_type": "markdown",
   "metadata": {
    "colab_type": "text",
    "id": "XP2V7Ds3x9lJ"
   },
   "source": [
    "## 1.1.1. Python Keywords"
   ]
  },
  {
   "cell_type": "markdown",
   "metadata": {
    "colab_type": "text",
    "id": "WWafYKulx9lO"
   },
   "source": [
    "* Keywords are the case-sensitive reserved words in python that can't be used as a variable name, function name or any other identifier."
   ]
  },
  {
   "cell_type": "code",
   "execution_count": 24,
   "metadata": {
    "colab": {},
    "colab_type": "code",
    "id": "bmp-yw_cx9lP",
    "outputId": "2c10a9fe-df24-4add-d1ab-707c6bbd2598"
   },
   "outputs": [
    {
     "name": "stdout",
     "output_type": "stream",
     "text": [
      "['False', 'None', 'True', 'and', 'as', 'assert', 'async', 'await', 'break', 'class', 'continue', 'def', 'del', 'elif', 'else', 'except', 'finally', 'for', 'from', 'global', 'if', 'import', 'in', 'is', 'lambda', 'nonlocal', 'not', 'or', 'pass', 'raise', 'return', 'try', 'while', 'with', 'yield']\n",
      "**************************************************\n",
      "Total number of keywords: 35 \n"
     ]
    }
   ],
   "source": [
    "#How to get all the keywords \n",
    "import keyword\n",
    "print(keyword.kwlist)\n",
    "print('*'*50)\n",
    "print(\"Total number of keywords: {0} \".format(len(keyword.kwlist)))"
   ]
  },
  {
   "cell_type": "markdown",
   "metadata": {
    "colab_type": "text",
    "collapsed": true,
    "id": "4wpq4Uomx9lW"
   },
   "source": [
    "## 1.1.2. Identifiers"
   ]
  },
  {
   "cell_type": "markdown",
   "metadata": {
    "colab_type": "text",
    "id": "VtGncKb3x9lY"
   },
   "source": [
    "Identifiers is the name given to entities like variables, class, functions in Python."
   ]
  },
  {
   "cell_type": "markdown",
   "metadata": {
    "colab_type": "text",
    "id": "YHO424Knx9lZ"
   },
   "source": [
    "Rules for Identifiers:\n",
    "\n",
    "1. Identifiers can be a combination of letters in lowercase (a to z) or uppercase (A to Z) or digits (0 to 9) or an underscore (_).\n",
    "\n",
    "**Example**: raja1ram = 5\n",
    "\n",
    "2. An identifier cannot start with a digit.\n",
    "\n",
    "**Example**: 1data is invalid.\n",
    "\n",
    "3. Keywords cannot be used as identifiers.\n",
    "\n",
    "**Example** as follows"
   ]
  },
  {
   "cell_type": "code",
   "execution_count": 25,
   "metadata": {
    "colab": {},
    "colab_type": "code",
    "id": "tZQPhTryx9la",
    "outputId": "814c5b60-82f1-43ad-900e-a03d4772f14e"
   },
   "outputs": [
    {
     "ename": "SyntaxError",
     "evalue": "invalid syntax (<ipython-input-25-cf9868e53e5b>, line 1)",
     "output_type": "error",
     "traceback": [
      "\u001b[1;36m  File \u001b[1;32m\"<ipython-input-25-cf9868e53e5b>\"\u001b[1;36m, line \u001b[1;32m1\u001b[0m\n\u001b[1;33m    continue = 1\u001b[0m\n\u001b[1;37m             ^\u001b[0m\n\u001b[1;31mSyntaxError\u001b[0m\u001b[1;31m:\u001b[0m invalid syntax\n"
     ]
    }
   ],
   "source": [
    "continue = 1"
   ]
  },
  {
   "cell_type": "code",
   "execution_count": 26,
   "metadata": {
    "colab": {},
    "colab_type": "code",
    "id": "FTqhcbK5x9lg",
    "outputId": "4e2c5993-4db4-4b6c-bb8d-447cc4d3a66b"
   },
   "outputs": [
    {
     "ename": "SyntaxError",
     "evalue": "invalid syntax (<ipython-input-26-60a4652400cb>, line 1)",
     "output_type": "error",
     "traceback": [
      "\u001b[1;36m  File \u001b[1;32m\"<ipython-input-26-60a4652400cb>\"\u001b[1;36m, line \u001b[1;32m1\u001b[0m\n\u001b[1;33m    @data = 10             # We cannot use special symbols like !, @, #, $, % etc. in our identifier.\u001b[0m\n\u001b[1;37m          ^\u001b[0m\n\u001b[1;31mSyntaxError\u001b[0m\u001b[1;31m:\u001b[0m invalid syntax\n"
     ]
    }
   ],
   "source": [
    "@data = 10             # We cannot use special symbols like !, @, #, $, % etc. in our identifier."
   ]
  },
  {
   "cell_type": "markdown",
   "metadata": {},
   "source": [
    "## 1.1.3. Variables\n",
    "\n",
    "* A variable is a location in memory used to store value. The rules for writing a variable name is same as the rules for writing identifiers in Python.\n",
    "\n",
    "* In Python, we simply assign a value to a variable and it will exist and take the type of the variable which is handled internally according to the type of value we assign to the variable.\n"
   ]
  },
  {
   "cell_type": "code",
   "execution_count": 27,
   "metadata": {},
   "outputs": [],
   "source": [
    "# Variable Assignments\n",
    "num = 10\n",
    "string = \"Udemy\"\n",
    "\n",
    "# Multiple Assignments\n",
    "num, dec, string = 10, 3.5, \"Udemy\""
   ]
  },
  {
   "cell_type": "code",
   "execution_count": 28,
   "metadata": {},
   "outputs": [
    {
     "name": "stdout",
     "output_type": "stream",
     "text": [
      "140732591674240\n",
      "140732591674240\n",
      "**************************************************\n",
      "Memory location of x and y is same ? :  True\n",
      "**************************************************\n",
      "140732591674208\n"
     ]
    }
   ],
   "source": [
    "# Storage Locations\n",
    "\n",
    "x = 3\n",
    "print(id(x))               #prints address of variable\n",
    "y = 3\n",
    "print(id(y))               #prints address of variable    \n",
    "\n",
    "print('*'*50)\n",
    "print(\"Memory location of x and y is same ? :  {0}\".format(id(x) == id(y)))\n",
    "print('*'*50)\n",
    "\n",
    "y = 2\n",
    "print(id(y))               #prints address of variable"
   ]
  }
 ],
 "metadata": {
  "colab": {
   "include_colab_link": true,
   "name": "1.2.ipynb",
   "provenance": []
  },
  "kernelspec": {
   "display_name": "Python 3",
   "language": "python",
   "name": "python3"
  },
  "language_info": {
   "codemirror_mode": {
    "name": "ipython",
    "version": 3
   },
   "file_extension": ".py",
   "mimetype": "text/x-python",
   "name": "python",
   "nbconvert_exporter": "python",
   "pygments_lexer": "ipython3",
   "version": "3.7.3"
  }
 },
 "nbformat": 4,
 "nbformat_minor": 1
}
