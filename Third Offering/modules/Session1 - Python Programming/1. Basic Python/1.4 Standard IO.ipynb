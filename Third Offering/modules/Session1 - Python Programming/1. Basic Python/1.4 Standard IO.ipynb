{
 "cells": [
  {
   "cell_type": "markdown",
   "metadata": {
    "colab_type": "text",
    "id": "6ucNmEoeIWVx"
   },
   "source": [
    "# 1.4 Python Input and Output"
   ]
  },
  {
   "cell_type": "markdown",
   "metadata": {
    "colab_type": "text",
    "id": "DnBlSpkSIWWO"
   },
   "source": [
    "## 1.4.1 Python Input"
   ]
  },
  {
   "cell_type": "markdown",
   "metadata": {
    "colab_type": "text",
    "id": "bRWQxJnHIWWO"
   },
   "source": [
    "* We have input() function to get the Input from the user."
   ]
  },
  {
   "cell_type": "code",
   "execution_count": 1,
   "metadata": {
    "colab": {},
    "colab_type": "code",
    "id": "QO0jpxF4IWWP",
    "outputId": "2514fa9d-46aa-47ec-e8cb-0a451ecdc20c"
   },
   "outputs": [
    {
     "name": "stdout",
     "output_type": "stream",
     "text": [
      "Enter a value: 10\n",
      "10\n"
     ]
    }
   ],
   "source": [
    "num = input(\"Enter a value: \")\n",
    "print(num)"
   ]
  },
  {
   "cell_type": "markdown",
   "metadata": {
    "colab_type": "text",
    "id": "dCSdgskeIWVy"
   },
   "source": [
    "## 1.4.2 Python Output"
   ]
  },
  {
   "cell_type": "markdown",
   "metadata": {
    "colab_type": "text",
    "id": "eh33gDzdIWVz"
   },
   "source": [
    "* We use the print() function to output data."
   ]
  },
  {
   "cell_type": "code",
   "execution_count": 2,
   "metadata": {
    "colab": {},
    "colab_type": "code",
    "id": "F9QddeMWIWV0",
    "outputId": "8418a76a-bca2-4328-8bbe-6a472134f31b"
   },
   "outputs": [
    {
     "name": "stdout",
     "output_type": "stream",
     "text": [
      "Data Scientist\n"
     ]
    }
   ],
   "source": [
    "print(\"Data Scientist\")"
   ]
  },
  {
   "cell_type": "code",
   "execution_count": 3,
   "metadata": {
    "colab": {},
    "colab_type": "code",
    "id": "2MI4gjZBIWV6",
    "outputId": "d1e9626a-ed26-4ef0-979c-27529245b637"
   },
   "outputs": [
    {
     "name": "stdout",
     "output_type": "stream",
     "text": [
      "The value of num is 15\n"
     ]
    }
   ],
   "source": [
    "num = 15\n",
    "print(\"The value of num is\", num)"
   ]
  },
  {
   "cell_type": "markdown",
   "metadata": {
    "colab_type": "text",
    "id": "u3ufzLVQIWV9"
   },
   "source": [
    "## 1.4.3 Formatting"
   ]
  },
  {
   "cell_type": "markdown",
   "metadata": {},
   "source": [
    "Types: \n",
    "\n",
    "1. Default \n",
    "2. Position \n",
    "3. Name \n",
    "4. Mixed"
   ]
  },
  {
   "cell_type": "code",
   "execution_count": 5,
   "metadata": {
    "colab": {},
    "colab_type": "code",
    "id": "zf7zSjahIWV-",
    "outputId": "fc5ed6ad-abae-45a7-c8c2-76915a17b1cf"
   },
   "outputs": [
    {
     "name": "stdout",
     "output_type": "stream",
     "text": [
      "The value of var1 is 10 and var2 is 20\n"
     ]
    }
   ],
   "source": [
    "var1 = 10; var2 = 20 #multiple statements in single line using ;.\n",
    "\n",
    "print(\"The value of var1 is {} and var2 is {}\".format(var1, var2))"
   ]
  },
  {
   "cell_type": "code",
   "execution_count": 6,
   "metadata": {
    "colab": {},
    "colab_type": "code",
    "id": "DzXvUng0IWWB",
    "outputId": "3e17844f-e44d-4ca1-9f87-0887f57f9a26"
   },
   "outputs": [
    {
     "name": "stdout",
     "output_type": "stream",
     "text": [
      "The value of var1 is 10 and var2 is 20\n"
     ]
    }
   ],
   "source": [
    "print(\"The value of var1 is {1} and var2 is {0}\".format(var2, var1)) #specify position of arguments"
   ]
  },
  {
   "cell_type": "code",
   "execution_count": 8,
   "metadata": {
    "colab": {},
    "colab_type": "code",
    "id": "q76tuCFbIWWF",
    "outputId": "7e99ce14-25e0-4382-f447-548b7bad0328"
   },
   "outputs": [
    {
     "name": "stdout",
     "output_type": "stream",
     "text": [
      "var1 value is 10, var2 value is 20\n"
     ]
    }
   ],
   "source": [
    "#we can use keyword arguments\n",
    "print(\"var1 value is {var1}, var2 value is {var2}\".format(var1 = 10, var2 = 20))"
   ]
  },
  {
   "cell_type": "code",
   "execution_count": 9,
   "metadata": {
    "colab": {},
    "colab_type": "code",
    "id": "2HI9BhlDIWWK",
    "outputId": "4fff2bb2-9fb9-435d-cfb5-edf3176a1043"
   },
   "outputs": [
    {
     "name": "stdout",
     "output_type": "stream",
     "text": [
      "The DataScientist from Udemy is good at Python, and R\n"
     ]
    }
   ],
   "source": [
    "#we can combine positional arguments with keyword arguments\n",
    "print('The DataScientist from {0} is good at {1}, and {other}'.format('Udemy', 'Python',\n",
    "                                                       other='R'))"
   ]
  }
 ],
 "metadata": {
  "colab": {
   "include_colab_link": true,
   "name": "1.5.ipynb",
   "provenance": []
  },
  "kernelspec": {
   "display_name": "Python 3",
   "language": "python",
   "name": "python3"
  },
  "language_info": {
   "codemirror_mode": {
    "name": "ipython",
    "version": 3
   },
   "file_extension": ".py",
   "mimetype": "text/x-python",
   "name": "python",
   "nbconvert_exporter": "python",
   "pygments_lexer": "ipython3",
   "version": "3.7.3"
  }
 },
 "nbformat": 4,
 "nbformat_minor": 1
}
