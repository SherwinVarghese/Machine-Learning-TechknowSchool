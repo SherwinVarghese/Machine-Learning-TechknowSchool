{
 "cells": [
  {
   "cell_type": "markdown",
   "metadata": {
    "colab_type": "text",
    "id": "I9BsPCXXefQ_"
   },
   "source": [
    "## 1.6.1 if Statement Example"
   ]
  },
  {
   "cell_type": "markdown",
   "metadata": {
    "colab_type": "text",
    "id": "2j1VzC47efRD"
   },
   "source": [
    "Python interprets non-zero values as True. None and 0 are interpreted as False."
   ]
  },
  {
   "cell_type": "code",
   "execution_count": 6,
   "metadata": {
    "colab": {},
    "colab_type": "code",
    "id": "6mBW6suCefRF",
    "outputId": "72e798df-efe6-44b0-a265-dcf4ed65c853"
   },
   "outputs": [
    {
     "name": "stdout",
     "output_type": "stream",
     "text": [
      "Default statement\n"
     ]
    }
   ],
   "source": [
    "num = 50\n",
    "\n",
    "if None: # None is treated as False\n",
    "    print(\"Number is positive\")\n",
    "print(\"Default statement\")      #This print statement always print"
   ]
  },
  {
   "cell_type": "markdown",
   "metadata": {
    "colab_type": "text",
    "id": "kJe4WdEyefRN"
   },
   "source": [
    "## 1.6.2 if..else Example"
   ]
  },
  {
   "cell_type": "code",
   "execution_count": 7,
   "metadata": {
    "colab": {},
    "colab_type": "code",
    "id": "pC8kDvb2efRO",
    "outputId": "bf77eac7-736c-406f-a561-c8ef8cca83c6"
   },
   "outputs": [
    {
     "name": "stdout",
     "output_type": "stream",
     "text": [
      "Positive number\n"
     ]
    }
   ],
   "source": [
    "num = 10\n",
    "if num > 0:\n",
    "    print(\"Positive number\")\n",
    "else:\n",
    "    print(\"Negative Number\")"
   ]
  },
  {
   "cell_type": "markdown",
   "metadata": {
    "colab_type": "text",
    "id": "FhL5F5DJefRR"
   },
   "source": [
    "## 1.6.3 if...elif...else Example"
   ]
  },
  {
   "cell_type": "code",
   "execution_count": 8,
   "metadata": {
    "colab": {},
    "colab_type": "code",
    "id": "NgIKVa1vefRV",
    "outputId": "d8cba0f9-d26d-4163-fbf9-5aceb05b4112"
   },
   "outputs": [
    {
     "name": "stdout",
     "output_type": "stream",
     "text": [
      "ZERO\n"
     ]
    }
   ],
   "source": [
    "num = 0\n",
    "\n",
    "if num > 0:\n",
    "    print(\"Positive number\")\n",
    "elif num == 0:\n",
    "    print(\"ZERO\")\n",
    "else:\n",
    "    print(\"Negative Number\")"
   ]
  },
  {
   "cell_type": "markdown",
   "metadata": {
    "colab_type": "text",
    "id": "Sp98_OGyefRZ"
   },
   "source": [
    "## 1.6.4 Nested if Example"
   ]
  },
  {
   "cell_type": "code",
   "execution_count": 9,
   "metadata": {
    "colab": {},
    "colab_type": "code",
    "id": "XSjHkI2RefRa",
    "outputId": "aab86f49-a9d6-4643-ec20-5a9d00df9237"
   },
   "outputs": [
    {
     "name": "stdout",
     "output_type": "stream",
     "text": [
      "Positive number\n"
     ]
    }
   ],
   "source": [
    "num = 10.5\n",
    "\n",
    "if num >= 0:\n",
    "    if num == 0:\n",
    "        print(\"Zero\")\n",
    "    else:\n",
    "        print(\"Positive number\")\n",
    "else:\n",
    "    print(\"Negative Number\")"
   ]
  },
  {
   "cell_type": "markdown",
   "metadata": {
    "colab_type": "text",
    "id": "OaeSlvRlQxZr"
   },
   "source": [
    "## 1.6.5 For Loop"
   ]
  },
  {
   "cell_type": "markdown",
   "metadata": {
    "colab_type": "text",
    "id": "mWRuZi5wQxZu"
   },
   "source": [
    "The for loop in Python is used to iterate over a sequence (list, tuple, string) or other iterable objects. For this we need an iterable."
   ]
  },
  {
   "cell_type": "markdown",
   "metadata": {
    "colab_type": "text",
    "id": "OuwDO8SlQxZ6"
   },
   "source": [
    "### Example"
   ]
  },
  {
   "cell_type": "code",
   "execution_count": 2,
   "metadata": {
    "colab": {},
    "colab_type": "code",
    "id": "htEE3yt7QxZ8",
    "outputId": "215cb822-3d89-4abb-8f79-636007e1c1c3"
   },
   "outputs": [
    {
     "name": "stdout",
     "output_type": "stream",
     "text": [
      "Product of all the numbers in list is : 120\n"
     ]
    }
   ],
   "source": [
    "#Find product of all numbers in a  iterable object\n",
    "list1 = [1, 2, 3, 4, 5]\n",
    "prod_val = 1\n",
    "\n",
    "#iterating over the list\n",
    "for num in list1:\n",
    "    prod_val *= num\n",
    "\n",
    "print(\"Product of all the numbers in list is : {}\".format(prod_val))"
   ]
  },
  {
   "cell_type": "markdown",
   "metadata": {
    "colab_type": "text",
    "id": "3FMtLcozQxaG"
   },
   "source": [
    "### 1.6.5.1 range() function"
   ]
  },
  {
   "cell_type": "markdown",
   "metadata": {
    "colab_type": "text",
    "id": "lVF4Vy6KQxaH"
   },
   "source": [
    " * We can generate a sequence of numbers using range() function. \n",
    " \n",
    " **Example:**  range(5) will generate numbers from 0 to 4 (5 numbers).\n",
    "\n",
    "\n",
    "* We can provide the start, stop and step size as range(start,stop,step size).\n",
    "\n",
    "\n",
    "* This function does not store all the values in memory, it yields the number whenever we call the value."
   ]
  },
  {
   "cell_type": "code",
   "execution_count": 3,
   "metadata": {
    "colab": {},
    "colab_type": "code",
    "id": "xp3D6jNTQxaI",
    "outputId": "622ffafa-4ae9-4602-d6ae-02500828aa7a"
   },
   "outputs": [
    {
     "name": "stdout",
     "output_type": "stream",
     "text": [
      "0\n",
      "1\n",
      "2\n",
      "3\n",
      "4\n"
     ]
    }
   ],
   "source": [
    "for num in range(5): #range of 5\n",
    "    print(num)"
   ]
  },
  {
   "cell_type": "code",
   "execution_count": 4,
   "metadata": {
    "colab": {},
    "colab_type": "code",
    "id": "HeGUHz5BQxaN",
    "outputId": "a27f27fc-0629-40b1-9f98-a90e7faca0d1"
   },
   "outputs": [
    {
     "name": "stdout",
     "output_type": "stream",
     "text": [
      "0\n",
      "5\n",
      "10\n",
      "15\n",
      "20\n",
      "25\n",
      "30\n",
      "35\n",
      "40\n",
      "45\n"
     ]
    }
   ],
   "source": [
    "for num in range(0, 50, 5): #print numbers from 0 to 50 with step size of 2\n",
    "    print(num)"
   ]
  },
  {
   "cell_type": "markdown",
   "metadata": {
    "colab_type": "text",
    "id": "q4hvJ3n6QxaU"
   },
   "source": [
    "### 1.6.5.2 for loop with else"
   ]
  },
  {
   "cell_type": "markdown",
   "metadata": {
    "colab_type": "text",
    "id": "tUGZf_sQQxaW"
   },
   "source": [
    "* A for loop can have an optional else block as well. It is executed when all the elements in the iterable are complete.\n",
    "\n",
    "* If we use break in the loop then else is ignored."
   ]
  },
  {
   "cell_type": "code",
   "execution_count": 7,
   "metadata": {
    "colab": {},
    "colab_type": "code",
    "id": "j0fE1yOGQxaX",
    "outputId": "d29bfdbb-d235-4eba-8b5b-d9031772a474"
   },
   "outputs": [
    {
     "name": "stdout",
     "output_type": "stream",
     "text": [
      "1\n",
      "2\n",
      "3\n",
      "I am done !\n"
     ]
    }
   ],
   "source": [
    "numbers = [1, 2, 3]\n",
    "\n",
    "#iterating over numbers\n",
    "for num in numbers:\n",
    "    print(num)\n",
    "else:\n",
    "    print(\"I am done !\")"
   ]
  },
  {
   "cell_type": "markdown",
   "metadata": {
    "colab_type": "text",
    "id": "07ksljDtKAHa"
   },
   "source": [
    "## 1.6.6 Python while Loop"
   ]
  },
  {
   "cell_type": "code",
   "execution_count": 8,
   "metadata": {
    "colab": {},
    "colab_type": "code",
    "id": "hSScsfzjKAHi",
    "outputId": "22fb60e0-a6f2-48ca-d3c4-4598d0b05d31"
   },
   "outputs": [
    {
     "name": "stdout",
     "output_type": "stream",
     "text": [
      "Product of all the numbers in list is : 120\n"
     ]
    }
   ],
   "source": [
    "#Find product of all numbers in a  iterable object\n",
    "list1 = [1, 2, 3, 4, 5]\n",
    "prod_val = 1\n",
    "\n",
    "#Index is used for keep track of the position\n",
    "index = 0\n",
    "\n",
    "#iterating over the list\n",
    "while index < len(list1):\n",
    "    prod_val *= list1[index]\n",
    "    index += 1\n",
    "\n",
    "print(\"Product of all the numbers in list is : {}\".format(prod_val))"
   ]
  },
  {
   "cell_type": "markdown",
   "metadata": {
    "colab_type": "text",
    "id": "yh4ZfYEbKAHm"
   },
   "source": [
    "### 1.6.6.1 while Loop with else\n"
   ]
  },
  {
   "cell_type": "markdown",
   "metadata": {
    "colab_type": "text",
    "id": "huxkWIqIKAHn"
   },
   "source": [
    "* A while loop also have an optional else block as well. It is executed when all the elements in the iterable are complete.\n",
    "\n",
    "* If we use break in the loop then else is ignored."
   ]
  },
  {
   "cell_type": "code",
   "execution_count": 9,
   "metadata": {
    "colab": {},
    "colab_type": "code",
    "id": "mSKSiUt6KAHo",
    "outputId": "2d8dc557-a5c0-428b-a069-6f3957cf2ba0"
   },
   "outputs": [
    {
     "name": "stdout",
     "output_type": "stream",
     "text": [
      "1\n",
      "2\n",
      "3\n",
      "4\n",
      "5\n",
      "no item left in the list\n"
     ]
    }
   ],
   "source": [
    "numbers = [1, 2, 3,4,5]\n",
    "index = 0\n",
    "while index < len(numbers):   #iterating over numbers\n",
    "    print(numbers[index])\n",
    "    index += 1\n",
    "    \n",
    "else:\n",
    "    print(\"no item left in the list\")"
   ]
  },
  {
   "cell_type": "markdown",
   "metadata": {
    "colab_type": "text",
    "id": "sywvYJn4bHvQ"
   },
   "source": [
    "## 1.6.7 Python break Statement"
   ]
  },
  {
   "cell_type": "markdown",
   "metadata": {
    "colab_type": "text",
    "id": "Nvwj3K2QbHvU"
   },
   "source": [
    "* It is used to alter the flow of a normal loop. Loops iterate over a iterable until the break statement is not executed."
   ]
  },
  {
   "cell_type": "markdown",
   "metadata": {
    "colab_type": "text",
    "id": "C54FsONgbHve"
   },
   "source": [
    "## Example"
   ]
  },
  {
   "cell_type": "code",
   "execution_count": 10,
   "metadata": {
    "colab": {},
    "colab_type": "code",
    "id": "mpNVa_wObHvg",
    "outputId": "9747f161-e1cd-4e91-e192-069c15a94f2a"
   },
   "outputs": [
    {
     "name": "stdout",
     "output_type": "stream",
     "text": [
      "2\n",
      "3\n",
      "4\n",
      "Break statement triggered !\n"
     ]
    }
   ],
   "source": [
    "numbers = [2, 3, 4, 5]\n",
    "for num in numbers:          #iterating over list\n",
    "    if num == 5:\n",
    "        print(\"Break statement triggered !\")\n",
    "        break\n",
    "    print(num)\n",
    "else:\n",
    "    print(\"Else block executed\")"
   ]
  },
  {
   "cell_type": "markdown",
   "metadata": {
    "colab_type": "text",
    "id": "QO76VTitbHvt"
   },
   "source": [
    "## 1.6.8  Python continue Statements"
   ]
  },
  {
   "cell_type": "markdown",
   "metadata": {
    "colab_type": "text",
    "id": "Bdk9BNsebHvy"
   },
   "source": [
    "## Example"
   ]
  },
  {
   "cell_type": "code",
   "execution_count": 11,
   "metadata": {
    "colab": {},
    "colab_type": "code",
    "id": "wuPT1JLvbHvz",
    "outputId": "63a7b7e1-70a8-490e-8850-a3ce70d2d90f"
   },
   "outputs": [
    {
     "name": "stdout",
     "output_type": "stream",
     "text": [
      "2\n",
      "4\n",
      "else-block\n"
     ]
    }
   ],
   "source": [
    "#print even numbers\n",
    "numbers = [1, 2, 3, 4, 5]\n",
    "\n",
    "# Loop over the numbers\n",
    "for num in numbers:\n",
    "    if num % 2 != 0:\n",
    "        continue\n",
    "    print(num)\n",
    "else:\n",
    "    print(\"else-block\")"
   ]
  }
 ],
 "metadata": {
  "colab": {
   "include_colab_link": true,
   "name": "if-elif-else.ipynb",
   "provenance": []
  },
  "kernelspec": {
   "display_name": "Python 3",
   "language": "python",
   "name": "python3"
  },
  "language_info": {
   "codemirror_mode": {
    "name": "ipython",
    "version": 3
   },
   "file_extension": ".py",
   "mimetype": "text/x-python",
   "name": "python",
   "nbconvert_exporter": "python",
   "pygments_lexer": "ipython3",
   "version": "3.7.3"
  }
 },
 "nbformat": 4,
 "nbformat_minor": 1
}
