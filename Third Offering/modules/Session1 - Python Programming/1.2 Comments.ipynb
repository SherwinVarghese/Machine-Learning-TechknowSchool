{
 "cells": [
  {
   "cell_type": "markdown",
   "metadata": {
    "colab_type": "text",
    "id": "NzaICI4LA1OY"
   },
   "source": [
    "# 1.2 Python Comments"
   ]
  },
  {
   "cell_type": "markdown",
   "metadata": {
    "colab_type": "text",
    "id": "7TOwc2tjA1OZ"
   },
   "source": [
    "* In Python, we use the hash (#) symbol to start writing a comment.\n",
    "\n",
    "* It is highly recommended to include comments in programs by which it makes code more readable for humans about what each part of a program is doing."
   ]
  },
  {
   "cell_type": "markdown",
   "metadata": {
    "colab_type": "text",
    "id": "xmEVLvrzA1Om"
   },
   "source": [
    "## 1.2.1  Single Line Comments"
   ]
  },
  {
   "cell_type": "code",
   "execution_count": 57,
   "metadata": {
    "colab": {},
    "colab_type": "code",
    "id": "fDiIHoUaA1Ob",
    "outputId": "c0e825b4-645a-42eb-a1df-51a6b5e923d9"
   },
   "outputs": [
    {
     "name": "stdout",
     "output_type": "stream",
     "text": [
      "Hello, world\n"
     ]
    }
   ],
   "source": [
    "#Print Hello, world \n",
    "print(\"Hello, world\")"
   ]
  },
  {
   "cell_type": "markdown",
   "metadata": {
    "colab_type": "text",
    "id": "xmEVLvrzA1Om"
   },
   "source": [
    "## 1.2.2  Multi Line Comments"
   ]
  },
  {
   "cell_type": "code",
   "execution_count": 58,
   "metadata": {
    "colab": {},
    "colab_type": "code",
    "id": "Wj2XcrOXA1Oo"
   },
   "outputs": [],
   "source": [
    "#This is statement1\n",
    "#and it continues\n",
    "#Multiple statements "
   ]
  },
  {
   "cell_type": "markdown",
   "metadata": {
    "colab_type": "text",
    "id": "PEW3NNA5A1Ou"
   },
   "source": [
    "Another way of doing this is to use triple quotes, ''' or \"\"\"."
   ]
  },
  {
   "cell_type": "code",
   "execution_count": 59,
   "metadata": {
    "colab": {},
    "colab_type": "code",
    "id": "62TQJZISA1Ov",
    "outputId": "a21a7f00-ffb3-43c2-b35f-e65a41d523d5"
   },
   "outputs": [
    {
     "data": {
      "text/plain": [
       "'This is an \\nexample of\\nmulti-line comments'"
      ]
     },
     "execution_count": 59,
     "metadata": {},
     "output_type": "execute_result"
    }
   ],
   "source": [
    "\"\"\"This is an \n",
    "example of\n",
    "multi-line comments\"\"\""
   ]
  },
  {
   "cell_type": "markdown",
   "metadata": {
    "colab_type": "text",
    "id": "cMCU_IMRA1O1"
   },
   "source": [
    "## 1.2.3 DocString in python"
   ]
  },
  {
   "cell_type": "markdown",
   "metadata": {
    "colab_type": "text",
    "id": "t38jXYIYA1O2"
   },
   "source": [
    "* DocString comes from **Doc**umentation **String**\n",
    "* It is a string that occurs as the first statement in a module, function, class, or method definition."
   ]
  },
  {
   "cell_type": "code",
   "execution_count": 60,
   "metadata": {
    "colab": {},
    "colab_type": "code",
    "id": "RcJcgL5OA1O3",
    "outputId": "e12c6d2c-3f03-4fb3-83a1-04efa3b82797"
   },
   "outputs": [
    {
     "name": "stdout",
     "output_type": "stream",
     "text": [
      "10\n"
     ]
    }
   ],
   "source": [
    "# Function for doubling the number\n",
    "def double(value):\n",
    "    \"\"\"\n",
    "    double the number\n",
    "    \"\"\"\n",
    "    return value * 2\n",
    "\n",
    "print(double(5))"
   ]
  },
  {
   "cell_type": "code",
   "execution_count": 61,
   "metadata": {
    "colab": {},
    "colab_type": "code",
    "id": "S7ZMvyrKA1O8",
    "outputId": "e8e10ee2-cb71-4823-8c96-11b1611148e1"
   },
   "outputs": [
    {
     "name": "stdout",
     "output_type": "stream",
     "text": [
      "\n",
      "    double the number\n",
      "    \n"
     ]
    }
   ],
   "source": [
    "print(double.__doc__) #Docstring can be accessed as the attribute __doc__ for the function"
   ]
  },
  {
   "cell_type": "markdown",
   "metadata": {
    "colab_type": "text",
    "id": "rXYXR5RcA1PV"
   },
   "source": [
    "## 1.2.4 Python Statements"
   ]
  },
  {
   "cell_type": "markdown",
   "metadata": {
    "colab_type": "text",
    "id": "o_EgsvWiA1PW"
   },
   "source": [
    "Statements are the instructions that Interpreter can execute."
   ]
  },
  {
   "cell_type": "markdown",
   "metadata": {
    "colab_type": "text",
    "id": "bfFSFs15A1PX"
   },
   "source": [
    "### Single Statement"
   ]
  },
  {
   "cell_type": "code",
   "execution_count": 62,
   "metadata": {
    "colab": {},
    "colab_type": "code",
    "id": "5cRADdrJA1PX"
   },
   "outputs": [],
   "source": [
    " a = 1  #single statement"
   ]
  },
  {
   "cell_type": "markdown",
   "metadata": {
    "colab_type": "text",
    "id": "lU-m8F_eA1Pb"
   },
   "source": [
    "### Multi-Line Statement"
   ]
  },
  {
   "cell_type": "markdown",
   "metadata": {
    "colab_type": "text",
    "id": "gGxKASh6A1Pc"
   },
   "source": [
    "In Python, we can use the continuation character (\\\\) for multi-line statement."
   ]
  },
  {
   "cell_type": "code",
   "execution_count": 63,
   "metadata": {
    "colab": {},
    "colab_type": "code",
    "id": "lEGcOf_hA1Pc"
   },
   "outputs": [
    {
     "name": "stdout",
     "output_type": "stream",
     "text": [
      "21\n"
     ]
    }
   ],
   "source": [
    "a = 1 + 2 + 3 + \\\n",
    "    7 + 8\n",
    "print(a)"
   ]
  },
  {
   "cell_type": "code",
   "execution_count": 64,
   "metadata": {
    "colab": {},
    "colab_type": "code",
    "id": "yXCmxS0rA1Pj",
    "outputId": "144b153b-0887-4973-e90f-75267ec2d621"
   },
   "outputs": [
    {
     "name": "stdout",
     "output_type": "stream",
     "text": [
      "21\n"
     ]
    }
   ],
   "source": [
    "#alternate way is enclosing in parentheses \n",
    "a = (1 + 2 + 3 +\n",
    "    7 + 8)\n",
    "print(a)"
   ]
  },
  {
   "cell_type": "code",
   "execution_count": 65,
   "metadata": {
    "colab": {},
    "colab_type": "code",
    "id": "rtWI9LTmA1Pn"
   },
   "outputs": [],
   "source": [
    "num = 10; dec = 10.5 ; string = \"Multi-line\"   #multiple statements in a single line using chracter ;"
   ]
  },
  {
   "cell_type": "markdown",
   "metadata": {
    "colab_type": "text",
    "id": "RcHcjEaeA1PE"
   },
   "source": [
    "## 1.2.5 Python Indentation"
   ]
  },
  {
   "cell_type": "markdown",
   "metadata": {
    "colab_type": "text",
    "id": "0p-CL1NKA1PG"
   },
   "source": [
    "* Mostly we use {} for programming blocks but here we use indentation "
   ]
  },
  {
   "cell_type": "code",
   "execution_count": 67,
   "metadata": {
    "colab": {},
    "colab_type": "code",
    "id": "DbonhvtWA1PO",
    "outputId": "87a90eb0-3d9c-4cda-a504-16fae8695874"
   },
   "outputs": [
    {
     "name": "stdout",
     "output_type": "stream",
     "text": [
      "Udemy Machine Learning\n"
     ]
    }
   ],
   "source": [
    "if True:\n",
    "    print(\"Udemy Machine Learning\")\n",
    "    role = \"data scientist\""
   ]
  }
 ],
 "metadata": {
  "colab": {
   "include_colab_link": true,
   "name": "1.3.ipynb",
   "provenance": []
  },
  "kernelspec": {
   "display_name": "Python 3",
   "language": "python",
   "name": "python3"
  },
  "language_info": {
   "codemirror_mode": {
    "name": "ipython",
    "version": 3
   },
   "file_extension": ".py",
   "mimetype": "text/x-python",
   "name": "python",
   "nbconvert_exporter": "python",
   "pygments_lexer": "ipython3",
   "version": "3.7.3"
  }
 },
 "nbformat": 4,
 "nbformat_minor": 1
}
